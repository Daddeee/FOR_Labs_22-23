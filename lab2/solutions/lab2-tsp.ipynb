{
 "cells": [
  {
   "cell_type": "markdown",
   "id": "ec75242f",
   "metadata": {},
   "source": [
    "# Lab session of 23/03/2022\n",
    "\n",
    "## Graph problem 3: The Traveling Salesperson Problem (TSP)\n",
    "\n",
    "Find the shortest Hamiltonian circuit through $n$ nodes where the distance between any two nodes is known. In particular:\n",
    "\n",
    "1. Generate $k$ points by creating random $x,y$ coordinates for each; the coordinates should be in the interval $[0,100]$;\n",
    "2. Assume the graph $G = (V,A)$ on which to solve the TSP is _complete_, i.e. any two pairs are connected by an arc;\n",
    "3. Create the optimization model for the TSP by only adding _flow conservation_ constraints, i.e., do not add any subtour elimination constraints;\n",
    "4. Iteratively solve the optimization model and then add subtour elimination constraints until the solution is a single (optimal) tour."
   ]
  },
  {
   "cell_type": "markdown",
   "id": "867aa952",
   "metadata": {},
   "source": [
    "## Solution\n",
    "\n",
    "Similar to problem 1 (shortest path tree), we'll perform a step at a time and visualize what we obtain in order to provide some intuition for each step. We'll use similar code for creating coordinates."
   ]
  },
  {
   "cell_type": "code",
   "execution_count": null,
   "id": "c1a3550b",
   "metadata": {},
   "outputs": [],
   "source": [
    "# When using Colab, make sure you run this instruction beforehand\n",
    "!pip install mip"
   ]
  },
  {
   "cell_type": "code",
   "execution_count": null,
   "id": "2f5ffc48",
   "metadata": {},
   "outputs": [],
   "source": [
    "import numpy as np\n",
    "import math\n",
    "\n",
    "k = 7  # number of nodes\n",
    "\n",
    "grid_size = 100 # size of the grid of points\n",
    "\n",
    "# Create k random points with two coordinates. Multiplying by grid_size yields\n",
    "# random numbers between 0 and 100.\n",
    "point = grid_size * np.random.random((k,2))\n",
    "\n",
    "# Define the set of vertices of the graph as the list of numbers from 0 to k-1\n",
    "V = [i for i in range(k)]\n",
    "\n",
    "# Determine the distance between each point\n",
    "distance = np.array([[math.sqrt(np.sum((point[i] - point[j])**2)) for i in V] for j in V])"
   ]
  },
  {
   "cell_type": "markdown",
   "id": "3ac834b6",
   "metadata": {},
   "source": [
    "Let's plot these points on the grid. We use `matplotlib` and specifically the function `matplotlib.pyplot`. We then create a complete graph and draw it on the grid."
   ]
  },
  {
   "cell_type": "code",
   "execution_count": null,
   "id": "2288274d",
   "metadata": {
    "scrolled": false
   },
   "outputs": [],
   "source": [
    "import matplotlib.pyplot as plot\n",
    "plot.scatter(point[:,0], point[:,1])\n",
    "plot.show()"
   ]
  },
  {
   "cell_type": "code",
   "execution_count": null,
   "id": "e8978661",
   "metadata": {},
   "outputs": [],
   "source": [
    "import networkx as nx\n",
    "\n",
    "V = [i for i in range(k)]  # set of nodes; redefined, but this is OK\n",
    "\n",
    "# Set of edges: note the condition that i<j as these are edges, not arcs,\n",
    "# i.e. they are not directed.\n",
    "E = [(i,j) for i in V for j in V if i < j]\n",
    "\n",
    "# Define a dictionary whose keys are the nodes, and the values are tuples\n",
    "# containing the (x,y) coordinates of each point\n",
    "coord = {i: (point[i,0], point[i,1]) for i in V}\n",
    "\n",
    "g = nx.Graph()\n",
    "\n",
    "g.add_nodes_from(V)\n",
    "g.add_edges_from(E)\n",
    "\n",
    "nx.draw(g, pos=coord)"
   ]
  },
  {
   "cell_type": "markdown",
   "id": "37656f78",
   "metadata": {},
   "source": [
    "We have all data we need and proceed to create a MIP model for the TSP. Let's write the complete one, with the exponentially large set of subtour-elimination constraints:\n",
    "\n",
    "$$\n",
    "\\begin{array}{lll}\n",
    "   \\min & \\sum_{(i,j) \\in E} d_{ij} x_{ij}\\\\\n",
    "   \\textrm{s.t.} & \\sum_{j \\in V: (i,j) \\in E} x_{ij} = 2 & \\forall i\\in V\\\\\n",
    "                 & \\sum_{(i,j) \\in E: i\\in C, j\\in C} x_{ij} \\le |C| - 1 & \\forall C\\subset V: C \\neq \\emptyset\\\\\n",
    "                 & x_{ij} \\in \\{0,1\\} & \\forall (i,j) \\in E\n",
    "\\end{array}\n",
    "$$\n",
    "\n",
    "In the first version of our model, we won't include any subtour-elimination constraint but will only add the first set."
   ]
  },
  {
   "cell_type": "code",
   "execution_count": null,
   "id": "35eb782e",
   "metadata": {},
   "outputs": [],
   "source": [
    "import mip\n",
    "\n",
    "m = mip.Model()\n",
    "\n",
    "x = {(i,j): m.add_var(var_type=mip.BINARY) for (i,j) in E}"
   ]
  },
  {
   "cell_type": "markdown",
   "id": "cf666acd",
   "metadata": {},
   "source": [
    "The flow conservation constraints requires that the incoming flow equal the outgoing flow. Instead of adding these constraints in a loop, we add them using a generator."
   ]
  },
  {
   "cell_type": "code",
   "execution_count": null,
   "id": "a50054b8",
   "metadata": {},
   "outputs": [],
   "source": [
    "for i in V:\n",
    "    m.add_constr(mip.xsum(x[j,i] for j in V if j < i) +\n",
    "                 mip.xsum(x[i,j] for j in V if j > i) == 2)"
   ]
  },
  {
   "cell_type": "markdown",
   "id": "4bb73a80",
   "metadata": {},
   "source": [
    "The objective function is the same as for the previous problem: the sum over all arcs $(i,j)$ of their length $d_{ij}$ (i.e. the distance between nodes $i$ and $j$) multiplied by the variable $x_{ij}$."
   ]
  },
  {
   "cell_type": "code",
   "execution_count": null,
   "id": "d16353e9",
   "metadata": {},
   "outputs": [],
   "source": [
    "m.objective = mip.minimize(mip.xsum(distance[i,j] * x[i,j] for (i,j) in E))\n",
    "m.optimize()"
   ]
  },
  {
   "cell_type": "markdown",
   "id": "e8877d84",
   "metadata": {},
   "source": [
    "We can rewrite the function for drawing the MIP solution, which might contain subtours."
   ]
  },
  {
   "cell_type": "code",
   "execution_count": null,
   "id": "082622bf",
   "metadata": {},
   "outputs": [],
   "source": [
    "def draw_solution(V, A, x):\n",
    "    g = nx.Graph()\n",
    "\n",
    "    # Draw the whole graph first: all nodes, all arcs, no highlighting\n",
    "    g.add_nodes_from(V)\n",
    "    g.add_edges_from([(i,j) for (i,j) in A])\n",
    "    nx.draw(g, pos=coord, with_labels=True, node_color=\"white\")\n",
    "\n",
    "    # Reset the graph and add only the arcs that belong to the solution, \n",
    "    # i.e. those for which the optimal value of the variable x[i,j] is nonzero\n",
    "    g.clear()\n",
    "    g.add_edges_from([(i,j) for (i,j) in A if x[i,j].x > 0.5])\n",
    "    nx.draw(g, pos=coord, width=4, edge_color='red', with_labels=True, node_color='white')\n",
    "\n",
    "    # finally, draw a graph consisting of the sole root node, highlighted in green\n",
    "    g.clear()\n",
    "    g.add_node(0)\n",
    "    nx.draw(g, pos={0: coord[0]}, node_color='white', with_labels=True)\n",
    "\n",
    "    \n",
    "# after defining the function, call it with the current data\n",
    "draw_solution (V, E, x)"
   ]
  },
  {
   "cell_type": "markdown",
   "id": "9694b4d2",
   "metadata": {},
   "source": [
    "Did we get a Hamiltonian circuit or subtours? In the latter case, we must separate subtour elimination constraints. We do it by hand for the first few iterations.\n"
   ]
  },
  {
   "cell_type": "code",
   "execution_count": null,
   "id": "034c7ff8",
   "metadata": {},
   "outputs": [],
   "source": [
    "m.add_constr(x[0,3] + x[3,4] + x[0,4] <= 2)\n",
    "m.optimize()\n",
    "draw_solution (V, E, x)"
   ]
  },
  {
   "cell_type": "markdown",
   "id": "c4bd0698",
   "metadata": {},
   "source": [
    "How do we make this automatic? I.e. how do we repeat this step by adding the appropriate subtour-elimination constraint until we find a Hamiltonian circuit?"
   ]
  },
  {
   "cell_type": "code",
   "execution_count": null,
   "id": "d0d3de1f",
   "metadata": {},
   "outputs": [],
   "source": [
    "def get_cycles(V, E, x):\n",
    "  graph = [[] for i in V]\n",
    "\n",
    "  for (i,j) in E:\n",
    "    if x[i,j].x > 0.5:\n",
    "      graph[i].append(j)\n",
    "      graph[j].append(i)\n",
    "\n",
    "  cycles = []\n",
    "  color = [0 for i in V]\n",
    "  par = [-1 for i in V]\n",
    "\n",
    "  for i in V:\n",
    "    if par[i] == -1:\n",
    "      dfs_cycle(graph, cycles, i, -1, color, par)\n",
    "\n",
    "  return [c for c in cycles if len(c) < len(V) and len(c) > 0]\n",
    "\n",
    "def dfs_cycle(graph, cycles, u, p, color, par):\n",
    "    # skil completely visited vertex.\n",
    "    if color[u] == 2:\n",
    "        return\n",
    " \n",
    "    # If vertex has been seen but not completely visited -> cycle detected.\n",
    "    # Backtrack based on parents to find the complete cycle.\n",
    "    if color[u] == 1:\n",
    "        v = []\n",
    "        cur = p\n",
    "        v.append(cur)\n",
    " \n",
    "        # backtrack the vertex which are\n",
    "        # in the current cycle thats found\n",
    "        while cur != u:\n",
    "            cur = par[cur]\n",
    "            v.append(cur)\n",
    "        \n",
    "        cycles.append(v)\n",
    "        return\n",
    " \n",
    "    par[u] = p\n",
    " \n",
    "    # partially visited.\n",
    "    color[u] = 1\n",
    " \n",
    "    # simple dfs on graph\n",
    "    for v in graph[u]:\n",
    "        # if it has not been visited previously\n",
    "        if v == par[u]:\n",
    "            continue\n",
    "        dfs_cycle(graph, cycles, v, u, color, par)\n",
    " \n",
    "    # completely visited.\n",
    "    color[u] = 2"
   ]
  },
  {
   "cell_type": "code",
   "execution_count": null,
   "id": "ad4a4e55",
   "metadata": {},
   "outputs": [],
   "source": [
    "import mip\n",
    "\n",
    "\n",
    "m = mip.Model()\n",
    "\n",
    "x = {(i,j): m.add_var(var_type=mip.BINARY, name=\"x{}{}\".format(str(i), str(j))) for (i,j) in E}\n",
    "\n",
    "for i in V:\n",
    "    m.add_constr(mip.xsum(x[j,i] for j in V if j < i) +\n",
    "                 mip.xsum(x[i,j] for j in V if j > i) == 2)\n",
    "\n",
    "m.objective = mip.minimize(mip.xsum(distance[i,j] * x[i,j] for (i,j) in E))\n",
    "m.optimize()\n",
    "\n",
    "cycles = get_cycles(V, E, x)\n",
    "while len(cycles) > 0:\n",
    "  cycle = cycles.pop()\n",
    "  cycle_edges = [x[i,j] for (i,j) in E if i in cycle and j in cycle]\n",
    "  c = m.add_constr(mip.xsum(cycle_edges) <= len(cycle_edges) - 1)\n",
    "  print(\"Added constr:\")\n",
    "  print(c)\n",
    "  m.optimize()\n",
    "  cycles = get_cycles(V, E, x)\n",
    "\n",
    "print(m.objective_value)\n",
    "draw_solution (V, E, x)"
   ]
  }
 ],
 "metadata": {
  "kernelspec": {
   "display_name": "Python 3.10.8 64-bit",
   "language": "python",
   "name": "python3"
  },
  "language_info": {
   "codemirror_mode": {
    "name": "ipython",
    "version": 3
   },
   "file_extension": ".py",
   "mimetype": "text/x-python",
   "name": "python",
   "nbconvert_exporter": "python",
   "pygments_lexer": "ipython3",
   "version": "3.10.8"
  },
  "vscode": {
   "interpreter": {
    "hash": "e7370f93d1d0cde622a1f8e1c04877d8463912d04d973331ad4851f04de6915a"
   }
  }
 },
 "nbformat": 4,
 "nbformat_minor": 5
}
