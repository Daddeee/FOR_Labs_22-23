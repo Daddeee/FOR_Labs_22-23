{
 "cells": [
  {
   "cell_type": "markdown",
   "id": "0b1f12f2",
   "metadata": {},
   "source": [
    "# Lab session of 23/03/2022\n",
    "\n",
    "## Graph problem 1: the shortest path problem\n",
    "\n",
    "Find the shortest path connecting two nodes on a randomly generated graph with $k$ nodes, where two nodes are connected if their Euclidean distance is not more than $d_{\\max}$. Specifically:\n",
    "\n",
    "1. Generate $k$ points by creating random $x,y$ coordinates for each; the coordinates should be in the interval $[0,100]$;\n",
    "2. Create edges by joining all node pairs whose distance is at most $d_{\\max}$;\n",
    "3. Create the optimization model for the shortest path problem, i.e., flow-based, based on the created graph; assume the path is from node 0 to node 12;\n",
    "4. Solve the optimization model and determine the shortest path."
   ]
  },
  {
   "cell_type": "markdown",
   "id": "66d09b7a",
   "metadata": {},
   "source": [
    "## Solution\n",
    "\n",
    "We'll carry out each step one by one. In order to check our progress, we'll use the `matplotlib` Python module for visualizing what we obtained so far. We can also use `numpy` for generating a few random numbers. Here we create a $k\\times 2$ multiarray that contains the $(x,y)$ coordinates of each of the $k$ points.\n",
    "\n",
    "Point $i$ has coordinates `point[i]`. We compute the distance by any two points $i$ and $j$ and store all distances in a square $k\\times k$ matrix we call `distance`. Note that `distance[i,i]` is always zero."
   ]
  },
  {
   "cell_type": "code",
   "execution_count": null,
   "id": "afc00939",
   "metadata": {},
   "outputs": [],
   "source": [
    "# When using Colab, make sure you run this cell beforehand\n",
    "!pip install mip\n",
    "\n",
    "import numpy as np\n",
    "import math\n",
    "\n",
    "k = 15\n",
    "grid_size = 100  # size of the grid of points\n",
    "d_max = .35 * grid_size\n",
    "\n",
    "s = 0   # starting point\n",
    "t = 12  # destination\n",
    "\n",
    "np.random.seed(12345)\n",
    "\n",
    "# Create k random points with two coordinates. Multiplying by grid_size yields\n",
    "# random numbers between 0 and 100."
   ]
  },
  {
   "cell_type": "markdown",
   "id": "984d4f1e",
   "metadata": {},
   "source": [
    "Let's plot these points on the grid. We use `matplotlib` and specifically the function `matplotlib.pyplot`."
   ]
  },
  {
   "cell_type": "code",
   "execution_count": null,
   "id": "d5d8de36",
   "metadata": {},
   "outputs": [],
   "source": [
    "import matplotlib.pyplot as plot\n",
    "plot.scatter(point[:,0], point[:,1])\n",
    "plot.show()"
   ]
  },
  {
   "cell_type": "markdown",
   "id": "688d7cf7",
   "metadata": {},
   "source": [
    "The `random` function call above uses a _random seed_ that is set on import. If we run the two cells above again, the coordinates would change and so would the graph. Anyone of us probably got a different set of points when running the above code.\n",
    "\n",
    "Let's now determine all distances between each point. An explanation of this one-liner is provided at the end of this notebook."
   ]
  },
  {
   "cell_type": "code",
   "execution_count": null,
   "id": "620c522d",
   "metadata": {},
   "outputs": [],
   "source": [
    "# Determine the distance between each point"
   ]
  },
  {
   "cell_type": "markdown",
   "id": "076c5559",
   "metadata": {},
   "source": [
    "Now let's draw the graph we constructed: we need a new Python module called `networkx`, but then drawing the graph can be done in 7 lines of code.\n",
    "\n",
    "To create a graph, we need a set $V$ of nodes, which we already have as it's the set of numbers from 0 to $k-1$. We also need a set of arcs $A$. For that we just take all tuples `(i,j)` such that the distance we computed above is not more than $d_{\\max}$.\n",
    "\n",
    "We then create a graph `g` as an object of the class `networkx.Graph`, we add the nodes from $V$ and the arcs from $A$. Then it's just a matter of calling `networkx.draw` by specifying the coordinates of the points. If the coordinates are not given, `networkx` can easily create them.\n",
    "\n",
    "The coordinates are specified as a __dictionary__, one of the fundamental data types in Python: they can be specified as in the following example, with key-value pairs,\n",
    "\n",
    "```python\n",
    "phone_book = {\n",
    "    'Alice': (555,3324),\n",
    "    'Bob': (555,4620)\n",
    "}\n",
    "```\n",
    "\n",
    "but we'll use a generator to create a dictionary that has nodes as keys and their coordinates $(x,y)$ as values. The `coord` object is only needed to draw the graph according to the right position of all nodes."
   ]
  },
  {
   "cell_type": "code",
   "execution_count": null,
   "id": "f1023aef",
   "metadata": {},
   "outputs": [],
   "source": [
    "import networkx as nx\n",
    "\n",
    "\n",
    "# Set of arcs: note the condition that i!=j and especially the condition\n",
    "# that prevents long arcs.\n",
    "\n",
    "# Define a dictionary whose keys are the nodes, and the values are tuples\n",
    "# containing the (x,y) coordinates of each point. Necessary for creating \n",
    "# a graph with networkx\n",
    "coord = {i: (point[i,0], point[i,1]) for i in V}\n",
    "\n",
    "g = nx.Graph()\n",
    "\n",
    "g.add_nodes_from(V)\n",
    "g.add_edges_from(A)\n",
    "\n",
    "nx.draw(g, pos=coord)"
   ]
  },
  {
   "cell_type": "markdown",
   "id": "c0550440",
   "metadata": {},
   "source": [
    "The input is done, now we need to create a MIP model after importing the `mip` module. The formulation is as follows (note that $d_{ij}$ is the distance between $i$ and $j$):\n",
    "\n",
    "$$\n",
    "\\begin{array}{lll}\n",
    "   \\min & \\sum_{(i,j) \\in A} d_{ij} f_{ij}\\\\\n",
    "   \\textrm{s.t.} & \\sum_{j \\in V: (i,j) \\in A} f_{ij} -  \\sum_{j \\in V: (j,i) \\in A} f_{ji} = b_i & \\forall i\\in V\\\\\n",
    "  & f_{ij} \\ge 0 & \\forall (i,j) \\in A\n",
    "\\end{array}\n",
    "$$\n",
    "\n",
    "where $b_i = \\left\\{\n",
    "   \\begin{array}{ll}\n",
    "      1 & \\textrm{if }i=s\\\\\n",
    "     -1 & \\textrm{if }i=t\\\\\n",
    "      0 & \\textrm{otherwise}\n",
    "   \\end{array}\n",
    "   \\right.$. We start by importing `mip` and creating a model, then adding the two classes of variables $f$ and $x$ with appropriate index sets."
   ]
  },
  {
   "cell_type": "code",
   "execution_count": null,
   "id": "d22b68cd",
   "metadata": {},
   "outputs": [],
   "source": [
    "# Create model and add variables"
   ]
  },
  {
   "cell_type": "code",
   "execution_count": null,
   "id": "6daf3806",
   "metadata": {},
   "outputs": [],
   "source": [
    "# define b[i] for all i\n",
    "\n",
    "# Write flow conservation constraint\n"
   ]
  },
  {
   "cell_type": "markdown",
   "id": "0e3c4e49",
   "metadata": {},
   "source": [
    "Finally, the objective function: the sum over all arcs $(i,j)$ of their length $d_{ij}$ (i.e. the distance between nodes $i$ and $j$) multiplied by the variable $x_{ij}$."
   ]
  },
  {
   "cell_type": "code",
   "execution_count": null,
   "id": "d09b36ad",
   "metadata": {},
   "outputs": [],
   "source": []
  },
  {
   "cell_type": "markdown",
   "id": "5f75532e",
   "metadata": {},
   "source": [
    "If we didn't have any graphical tool, we could easily just print out the indices $(i,j)$ of the variables $x_{ij}$ that have a non-zero value:"
   ]
  },
  {
   "cell_type": "code",
   "execution_count": null,
   "id": "ceebf608",
   "metadata": {},
   "outputs": [],
   "source": []
  },
  {
   "cell_type": "markdown",
   "id": "05df6bbc",
   "metadata": {},
   "source": [
    "But we'll use the `networkx.draw` function again and add some more features to visualize the tree on the graph. Note that `networkx.draw` can host multiple drawings of the same graph, and this can be useful to give a different width/color for the arcs that belong to the optimal solution as well as for showing where the root node is.\n",
    "\n",
    "We put this code into a function as it will be called later when using the other formulation."
   ]
  },
  {
   "cell_type": "code",
   "execution_count": null,
   "id": "50773341",
   "metadata": {},
   "outputs": [],
   "source": [
    "def draw_solution(V, A, x):\n",
    "    g = nx.Graph()\n",
    "\n",
    "    # Draw the whole graph first: all nodes, all arcs, no highlighting\n",
    "    g.add_nodes_from(V)\n",
    "    g.add_edges_from([(i,j) for (i,j) in A])\n",
    "    nx.draw(g, pos=coord)\n",
    "\n",
    "    # Reset the graph and add only the arcs that belong to the solution, \n",
    "    # i.e. those for which the optimal value of the variable f[i,j] is nonzero\n",
    "    g.clear()\n",
    "    g.add_edges_from([(i,j) for (i,j) in A if f[i,j].x > 0.001])\n",
    "    nx.draw(g, pos=coord, width=4, edge_color='red')\n",
    "\n",
    "    # finally, draw a graph consisting of the sole root node, highlighted in green\n",
    "    g.clear()\n",
    "    g.add_node(0)\n",
    "    nx.draw(g, pos={0: coord[0]}, node_color='green')\n",
    "\n",
    "    \n",
    "# after defining the function, call it with the current data\n",
    "draw_solution (V, A, f)"
   ]
  },
  {
   "cell_type": "markdown",
   "id": "a9351bcf",
   "metadata": {},
   "source": [
    "## Explanation of the definition of `distance`"
   ]
  },
  {
   "cell_type": "code",
   "execution_count": null,
   "id": "818c90c1",
   "metadata": {},
   "outputs": [],
   "source": [
    "distance = np.array([[math.sqrt(np.sum((point[i] - point[j])**2)) for i in V] for j in V])"
   ]
  },
  {
   "cell_type": "markdown",
   "id": "736901ae",
   "metadata": {},
   "source": [
    "Let's analyze the above instruction given that it compresses quite a few operations on one line.\n",
    "\n",
    "Consider the multiarray with the coordinates. Point 3, for example, has coordinates `point[3,0]` and `point[3,1]`. It can also be considered as a 2-vector with `point[3]`. "
   ]
  },
  {
   "cell_type": "code",
   "execution_count": null,
   "id": "eb4415c1",
   "metadata": {},
   "outputs": [],
   "source": [
    "print(point[3,0])\n",
    "print(point[3,1])\n",
    "print(point[3])"
   ]
  },
  {
   "cell_type": "markdown",
   "id": "e62fb626",
   "metadata": {},
   "source": [
    "Numpy can do operations on (sub-)vectors, so we can easily obtain the difference vector between point 2 and point 3, which will be obviously a 2-vector:"
   ]
  },
  {
   "cell_type": "code",
   "execution_count": null,
   "id": "005621cf",
   "metadata": {},
   "outputs": [],
   "source": [
    "print(point[2])\n",
    "print(point[3])\n",
    "print(\"vector difference:\", point[3] - point[2])"
   ]
  },
  {
   "cell_type": "markdown",
   "id": "6f70a289",
   "metadata": {},
   "source": [
    "For a numpy array `a`, the array `a**2` is such that every element is the square of each element of `a`."
   ]
  },
  {
   "cell_type": "code",
   "execution_count": null,
   "id": "1f1bf940",
   "metadata": {},
   "outputs": [],
   "source": [
    "a = np.array([2,5])\n",
    "print(a**2)"
   ]
  },
  {
   "cell_type": "markdown",
   "id": "a044ffa8",
   "metadata": {},
   "source": [
    "The `np.sum` operator obviously gives the sum of all elements in the vector, while `np.sqrt` takes the square root. "
   ]
  },
  {
   "cell_type": "code",
   "execution_count": null,
   "id": "d4d8a80e",
   "metadata": {},
   "outputs": [],
   "source": [
    "p1 = np.array([2,7])\n",
    "p2 = np.array([5,3])\n",
    "\n",
    "print('difference vector:', p1-p2)\n",
    "print('squared difference:', (p1-p2)**2)\n",
    "print('sum of the squared differences:', np.sum((p1-p2)**2))\n",
    "print('its square root is:', np.sqrt(np.sum((p1-p2)**2)))"
   ]
  },
  {
   "cell_type": "markdown",
   "id": "d7e4614c",
   "metadata": {},
   "source": [
    "Now we just need to elaborate a bit on *list comprehensions*, i.e. how to create lists by looping over an index."
   ]
  },
  {
   "cell_type": "code",
   "execution_count": null,
   "id": "b9acc3cd",
   "metadata": {},
   "outputs": [],
   "source": [
    "table5 = np.array([[i*j for i in range(1,6)] for j in range(1,6)])\n",
    "print(table5)"
   ]
  },
  {
   "cell_type": "markdown",
   "id": "ded33ab1",
   "metadata": {},
   "source": [
    "Well, this is the multiplication table from 1 to 5. The take-away message is that we have a nested list comprehension\n",
    "```python\n",
    "a = [[i*j for i in ...] for j in ...]\n",
    "```\n",
    "We can now read the instruction a little more easily:"
   ]
  },
  {
   "cell_type": "code",
   "execution_count": null,
   "id": "4f452e8a",
   "metadata": {},
   "outputs": [],
   "source": [
    "#                               squared difference between any two points \n",
    "#                                       ___________|___________\n",
    "#                                      /                       \\\n",
    "distance = np.array([[math.sqrt(np.sum((point[i] - point[j])**2)) for i in V] for j in V])\n",
    "#                     \\_________________________________________/\n",
    "#                                            |\n",
    "#                      square root of their sum (i.e. distance between i and j)\n",
    "#                   \\___________________________________________________________________/\n",
    "#                                                        |\n",
    "#                     List comprehension that computes the distance between any two points i and j"
   ]
  },
  {
   "cell_type": "markdown",
   "id": "59bad939",
   "metadata": {},
   "source": [
    "### Can we do it faster?\n",
    "\n",
    "https://jakevdp.github.io/PythonDataScienceHandbook/01.07-timing-and-profiling.html"
   ]
  },
  {
   "cell_type": "code",
   "execution_count": null,
   "id": "3e3a95d8",
   "metadata": {},
   "outputs": [],
   "source": [
    "import numpy as np\n",
    "import math\n",
    "\n",
    "# Generate many random 2d points in [0, 100]\n",
    "num_points = 1000\n",
    "grid_size = 100\n",
    "points = grid_size * np.random.random((num_points,2))\n",
    "\n",
    "def slow_distance_matrix(points):\n",
    "    return np.array([[math.sqrt(np.sum((pi - pj)**2)) for pi in points] for pj in points])\n",
    "\n",
    "# TODO\n",
    "def fast_distance_matrix(x):\n",
    "    # Tip: do not use list comprehension, exploit numpy matrix operations\n",
    "    return np.zeros((len(points), len(points)))\n",
    "\n",
    "print(\"Running slow version\")\n",
    "%time m1 = slow_distance_matrix(points)\n",
    "\n",
    "print(\"Running fast version\")\n",
    "%time m2 = fast_distance_matrix(points)\n",
    "\n",
    "# Check if matrices contains the same values \n",
    "# (beware of floating point comparisons!!)\n",
    "eps = 1e-5\n",
    "assert (np.abs(m1 - m2) <= eps).all()"
   ]
  }
 ],
 "metadata": {
  "kernelspec": {
   "display_name": "Python 3 (ipykernel)",
   "language": "python",
   "name": "python3"
  },
  "language_info": {
   "codemirror_mode": {
    "name": "ipython",
    "version": 3
   },
   "file_extension": ".py",
   "mimetype": "text/x-python",
   "name": "python",
   "nbconvert_exporter": "python",
   "pygments_lexer": "ipython3",
   "version": "3.10.4"
  }
 },
 "nbformat": 4,
 "nbformat_minor": 5
}
