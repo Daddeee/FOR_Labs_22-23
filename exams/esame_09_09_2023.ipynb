{
  "cells": [
    {
      "cell_type": "markdown",
      "metadata": {
        "id": "9wzvlUB9q2Q5"
      },
      "source": [
        "**Fill in the gaps marked with \"...\".**\n",
        "\n",
        "**Once finished, click on \"File\" > \"Download\" > \"Download .ipynb\" to download a copy of your notebook.**\n",
        "\n",
        "**Finally, send the notebook with an email to davide.croci@polimi.it, using as subject \"FOR Lab Exam - Name Surname\".**\n",
        "\n",
        "# Exam question\n",
        "\n",
        "Si considerino 10 città che hanno la seguente domanda annuale di energia elettrica:\n",
        "\n",
        "città($i$)|1|2|3|4|5|6|7|8|9|10|\n",
        "---------|-|-|-|-|-|-|-|-|-|--|\n",
        "domanda di $i$|30|18|21|10|8|23|11|32|14|9\n",
        "\n",
        "Ci sono 3 centrali di produzione di energia vicine che possono servire una qualsiasi delle città menzionate. Tuttavia, ogni città deve essere servita da una sola centrale.\n",
        "\n",
        "L'attivazione di una centrale comporta i seguenti costi fissi:\n",
        "\n",
        "centrale ($j$)|1|2|3\n",
        "-------------------|-|-|-\n",
        "costo di attivazione di $j$|80|100|110\n",
        "\n",
        "Quando sono attive, le centrali possono operare in uno di 4 possibili livelli di produzione. Per ciascun livello di produzione, la capacità (in unità di energia prodotta all'anno) e il relativo costo totale sono riassunti nella seguente tabella:\n",
        "\n",
        "livello di produzione ($k$)|1|2|3|4\n",
        "----------------------|-|-|-|-\n",
        "capacità di $k$|10|60|90|130\n",
        "costo totale di $k$|100|480|630|780\n",
        "\n",
        "Si risolva il problema di assegnare le città alle centrali e selezionare i livelli di produzione di queste ultime in modo che le domande delle città siano soddisfatte, minimizzando i costi totali delle centrali.\n",
        "\n"
      ]
    },
    {
      "cell_type": "markdown",
      "metadata": {
        "id": "Cu03_nqSxIQp"
      },
      "source": [
        "## Solution\n",
        "\n",
        "### Sets:\n",
        "*   $I$ è l'insieme delle città.\n",
        "*   $J$ è l'insieme delle centrali energetiche.\n",
        "*   $K$ è l'insieme dei livelli di produzione.\n",
        "\n",
        "### Parameters:\n",
        "*   $d_i$ è la domanda annuale di energia della città $i \\in I$.\n",
        "*   $b_j$ è il costo di attivazione della centrale $j \\in J$.\n",
        "*   $l_k$ è la quantità di energia prodotta annualmente (capacità) al livello di produzione $k \\in K$\n",
        "*   $c_k$ è il costo totale del livello di produzione $k \\in K$\n",
        "\n",
        "### Variables:\n",
        "*   $x_{ij} \\in \\{0,1\\}$ è uguale a 1 se la città $i$ è assegnata alla struttura $j$, altrimenti è 0.\n",
        "*   $y_{j} \\in \\{0,1\\}$ è uguale a 1 se la struttura $j$ è attivata, altrimenti è 0.\n",
        "*   $z_{jk} \\in \\{0,1\\}$ è uguale a 1 se la città $i$ è assegnata alla struttura $j$, altrimenti è 0..\n",
        "\n",
        "### Formulation:\n",
        "\n",
        "$$\n",
        "\\begin{array}{lll}\n",
        "\\min & \\sum_{j \\in J}{(b_j y_j + \\sum_{k \\in K} c_k z_{jk})}\\\\\n",
        "\\textrm{s.t.} & \\sum_{j \\in J} x_{ij} = 1 & \\forall i \\in I \\\\\n",
        "              & \\sum_{i \\in I}{d_i x_{ij}} \\le \\sum_{k \\in K}{l_k z_{jk}} & \\forall j \\in J \\\\\n",
        "              & y_j \\ge \\sum_{k \\in K} z_{jk} & \\forall j \\in J \\\\\n",
        "              & x_{ij}, y_{j}, z_{jk} \\in \\{0,1\\} & \\forall i \\in I, \\forall j \\in J, \\forall k \\in K\n",
        "\\end{array}\n",
        "$$"
      ]
    },
    {
      "cell_type": "code",
      "execution_count": null,
      "metadata": {
        "id": "O2B71NL0qzHW"
      },
      "outputs": [],
      "source": [
        "!pip install mip"
      ]
    },
    {
      "cell_type": "code",
      "execution_count": null,
      "metadata": {
        "id": "Vd87Yzyg6nGC"
      },
      "outputs": [],
      "source": [
        "import mip\n",
        "\n",
        "I = [0, 1, 2, 3, 4, 5, 6, 7, 8, 9]\n",
        "J = [0, 1, 2]\n",
        "K = [0, 1, 2, 3]\n",
        "\n",
        "d = [30, 18, 21, 10, 8, 23, 11, 32, 14, 9]\n",
        "b = [80, 100, 110]\n",
        "l = [10, 60, 90, 130]\n",
        "c = [100, 480, 630, 780]\n",
        "\n",
        "m = mip.Model()\n",
        "\n",
        "x = [[m.add_var(var_type=mip.BINARY) for j in J] for i in I]\n",
        "y = ...\n",
        "z = ...\n",
        "\n",
        "for i in I:\n",
        "  m.add_constr(mip.xsum(x[i][j] for j in J) == 1)\n",
        "\n",
        "for j in J:\n",
        "  m.add_constr(...)\n",
        "\n",
        "for j in J:\n",
        "  m.add_constr(...)\n",
        "\n",
        "m.objective = ...\n",
        "\n",
        "m.optimize()\n",
        "\n",
        "print(m.objective_value)"
      ]
    }
  ],
  "metadata": {
    "colab": {
      "provenance": []
    },
    "kernelspec": {
      "display_name": "Python 3.10.8 64-bit",
      "language": "python",
      "name": "python3"
    },
    "language_info": {
      "name": "python",
      "version": "3.10.8"
    },
    "vscode": {
      "interpreter": {
        "hash": "e7370f93d1d0cde622a1f8e1c04877d8463912d04d973331ad4851f04de6915a"
      }
    }
  },
  "nbformat": 4,
  "nbformat_minor": 0
}