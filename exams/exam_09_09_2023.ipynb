{
  "cells": [
    {
      "cell_type": "markdown",
      "metadata": {
        "id": "9wzvlUB9q2Q5"
      },
      "source": [
        "**Fill in the gaps marked with \"...\".**\n",
        "\n",
        "**Once finished, click on \"File\" > \"Download\" > \"Download .ipynb\" to download a copy of your notebook.**\n",
        "\n",
        "**Finally, send the notebook with an email to davide.croci@polimi.it, using as subject \"FOR Lab Exam - Name Surname\".**\n",
        "\n",
        "# Exam question\n",
        "\n",
        "Consider 10 cities which have the following annual demand for electrical energy:\n",
        "\n",
        "city($i$)|1|2|3|4|5|6|7|8|9|10|\n",
        "---------|-|-|-|-|-|-|-|-|-|--|\n",
        "demand of $i$|30|18|21|10|8|23|11|32|14|9\n",
        "\n",
        "There are 3 nearby energy production facilities which can serve any of the aforementioned cities. However, each city must be served by only one facility.\n",
        "\n",
        "Activating a facility incurs the following fixed cost:\n",
        "\n",
        "energy facility ($j$)|1|2|3\n",
        "-------------------|-|-|-\n",
        "activation cost of $j$|80|100|110\n",
        "\n",
        "When active, facilities can operate in one out of 4 possible production levels (annual capacities). For each production level, the capacity (in units of energy produced per year) and the respective total cost are summarized in the following table:\n",
        "\n",
        "production level ($k$)|1|2|3|4\n",
        "----------------------|-|-|-|-\n",
        "capacity of $k$|10|60|90|130\n",
        "total cost of $k$|100|480|630|780\n",
        "\n",
        "The problem consists in assigning cities to facilities and selecting the production levels of the latter so that city demands are satisfied while minimizing the total facility costs.\n",
        "\n"
      ]
    },
    {
      "cell_type": "markdown",
      "metadata": {
        "id": "Cu03_nqSxIQp"
      },
      "source": [
        "## Solution\n",
        "\n",
        "### Sets:\n",
        "*   $I$ is the set of cities.\n",
        "*   $J$ is the set of energy facilities.\n",
        "*   $K$ is the set of production levels.\n",
        "\n",
        "### Parameters:\n",
        "*   $d_i$ is the annual energy demand of city $i \\in I$.\n",
        "*   $b_j$ is the activation cost of facility $j \\in J$.\n",
        "*   $l_k$ is the amount of energy produced annually (capacity) at production level $k \\in K$\n",
        "*   $c_k$ is the total cost of production level $k \\in K$\n",
        "\n",
        "### Variables:\n",
        "*   $x_{ij} \\in \\{0,1\\}$ equals 1 if city $i$ is assigned to facility $j$, 0 otherwise.\n",
        "*   $y_{j} \\in \\{0,1\\}$ equals 1 if facility $j$ is activated, 0 otherwise\n",
        "*   $z_{jk} \\in \\{0,1\\}$ equals 1 if city $i$ is assigned to facility $j$, 0 otherwise.\n",
        "\n",
        "### Formulation:\n",
        "\n",
        "$$\n",
        "\\begin{array}{lll}\n",
        "\\min & \\sum_{j \\in J}{(b_j y_j + \\sum_{k \\in K} c_k z_{jk})}\\\\\n",
        "\\textrm{s.t.} & \\sum_{j \\in J} x_{ij} = 1 & \\forall i \\in I \\\\\n",
        "              & \\sum_{i \\in I}{d_i x_{ij}} \\le \\sum_{k \\in K}{l_k z_{jk}} & \\forall j \\in J \\\\\n",
        "              & y_j \\ge \\sum_{k \\in K} z_{jk} & \\forall j \\in J \\\\\n",
        "              & x_{ij}, y_{j}, z_{jk} \\in \\{0,1\\} & \\forall i \\in I, \\forall j \\in J, \\forall k \\in K\n",
        "\\end{array}\n",
        "$$"
      ]
    },
    {
      "cell_type": "code",
      "execution_count": null,
      "metadata": {
        "id": "O2B71NL0qzHW"
      },
      "outputs": [],
      "source": [
        "!pip install mip"
      ]
    },
    {
      "cell_type": "code",
      "execution_count": null,
      "metadata": {
        "id": "Vd87Yzyg6nGC"
      },
      "outputs": [],
      "source": [
        "import mip\n",
        "\n",
        "I = [0, 1, 2, 3, 4, 5, 6, 7, 8, 9]\n",
        "J = [0, 1, 2]\n",
        "K = [0, 1, 2, 3]\n",
        "\n",
        "d = [30, 18, 21, 10, 8, 23, 11, 32, 14, 9]\n",
        "b = [80, 100, 110]\n",
        "l = [10, 60, 90, 130]\n",
        "c = [100, 480, 630, 780]\n",
        "\n",
        "m = mip.Model()\n",
        "\n",
        "x = [[m.add_var(var_type=mip.BINARY) for j in J] for i in I]\n",
        "y = ...\n",
        "z = ...\n",
        "\n",
        "for i in I:\n",
        "  m.add_constr(mip.xsum(x[i][j] for j in J) == 1)\n",
        "\n",
        "for j in J:\n",
        "  m.add_constr(...)\n",
        "\n",
        "for j in J:\n",
        "  m.add_constr(...)\n",
        "\n",
        "m.objective = ...\n",
        "\n",
        "m.optimize()\n",
        "\n",
        "print(m.objective_value)"
      ]
    }
  ],
  "metadata": {
    "colab": {
      "provenance": []
    },
    "kernelspec": {
      "display_name": "Python 3.10.8 64-bit",
      "language": "python",
      "name": "python3"
    },
    "language_info": {
      "name": "python",
      "version": "3.10.8"
    },
    "vscode": {
      "interpreter": {
        "hash": "e7370f93d1d0cde622a1f8e1c04877d8463912d04d973331ad4851f04de6915a"
      }
    }
  },
  "nbformat": 4,
  "nbformat_minor": 0
}