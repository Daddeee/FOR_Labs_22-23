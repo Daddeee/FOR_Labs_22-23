{
  "cells": [
    {
      "cell_type": "markdown",
      "metadata": {
        "id": "9wzvlUB9q2Q5"
      },
      "source": [
        "**Fill in the gaps marked with \"...\".**\n",
        "\n",
        "**Once finished, click on \"File\" > \"Download\" > \"Download .ipynb\" to download a copy of your notebook.**\n",
        "\n",
        "**Finally, send the notebook with an email to davide.croci@polimi.it, using as subject \"FOR Lab Exam - Name Surname\".**\n",
        "\n",
        "# Exam question\n",
        "\n",
        "A large power company wants to plan its capacity expansion for the next 10 years. The forecasted demand in megawatts for year $t \\in \\{1, . . . , 10\\}$ is denoted by $d_t$, and is provided in the following table.\n",
        "\n",
        "$year(t)$|1|2|3|4|5|6|7|8|9|10|\n",
        "---------|-|-|-|-|-|-|-|-|-|--|\n",
        "$d_t$|10|22|31|35|39|44|50|57|62|70\n",
        "\n",
        "The company can expand its energy production capacity at the beginning of each year. Two energy production alternatives are available: nuclear and wind.\n",
        "\n",
        "* An investment of $c_n = 100$ is required per megawatt of nuclear power. Such an investment in the beginning of year $t$ implies that the purchased capacity will be available during period $t$, $t+1$, $t+2$ and $t+3$.\n",
        "* Similarly, an investment of $c_w = 120$ is required per megawatt of wind power capacity. Such an investment in the beginning of year $t$ implies that the purchased capacity will be available during period $t$, $t+1$ and $t+2$.\n",
        "\n",
        "Governmental regulations require that at most $60\\%$ of the companies power capacity be nuclear.\n",
        "\n",
        "Assume that the initial capacity of the company is zero for nuclear and wind. The company would like to have a least cost capacity expansion plan, while satisfying the forecasted demand.\n",
        "\n"
      ]
    },
    {
      "cell_type": "markdown",
      "metadata": {
        "id": "Cu03_nqSxIQp"
      },
      "source": [
        "## Solution\n",
        "\n",
        "### Sets:\n",
        "*   $T=\\{1, . . . , 10\\}$ is the set of periods (years) in the planning horizon.\n",
        "*   $I=\\{0, 1\\}$ is the set of energy production alternatives **('0'=nuclear, '1'=wind)**.\n",
        "\n",
        "### Parameters:\n",
        "*   $d_t$ is the demand (in megawatts) of year $t \\in T$.\n",
        "*   $c_i$ is the investment cost to produce one megawatt of type $i \\in I$ power.\n",
        "*   $a_i$ is the number of years (after the year of purchase) the capacity for type $i$ power is available.\n",
        "*   $N$ is the maximum allowed ratio of nuclear power capacity with respect to total available capacity for each year $t$.\n",
        "\n",
        "### Variables:\n",
        "*   $x_{it} \\ge 0$ is the amount of type $i$ power capacity available in year $t$.\n",
        "*   $y_{it} \\ge 0$ is the amount of type $i$ power capacity purchased at the beginning of year $t$.\n",
        "\n",
        "### Formulation:\n",
        "\n",
        "$$\n",
        "\\begin{array}{lll}\n",
        "\\min & \\sum_{t \\in T}{\\sum_{i \\in I} c_i y_{it} }\\\\\n",
        "\\textrm{s.t.} & \\sum_{i \\in I} x_{it} \\ge d_t & \\forall t \\in T \\\\\n",
        "              & x_{0t} \\le N (\\sum_{i \\in I}{x_{it}}) & \\forall t \\in T \\\\\n",
        "              & x_{it} = \\sum_{l=\\max\\{1, t - a_i \\}}^{t}{y_{il}} & \\forall i \\in I, \\forall t \\in T \\\\\n",
        "              & x_{it}, y_{it} \\ge 0 & \\forall i \\in I, \\forall t \\in T\n",
        "\\end{array}\n",
        "$$"
      ]
    },
    {
      "cell_type": "code",
      "execution_count": 1,
      "metadata": {
        "colab": {
          "base_uri": "https://localhost:8080/"
        },
        "id": "O2B71NL0qzHW",
        "outputId": "64bba142-9cc0-45b8-8b36-105d0c6e96a5"
      },
      "outputs": [
        {
          "output_type": "stream",
          "name": "stdout",
          "text": [
            "Looking in indexes: https://pypi.org/simple, https://us-python.pkg.dev/colab-wheels/public/simple/\n",
            "Collecting mip\n",
            "  Downloading mip-1.15.0-py3-none-any.whl (15.3 MB)\n",
            "\u001b[2K     \u001b[90m━━━━━━━━━━━━━━━━━━━━━━━━━━━━━━━━━━━━━━━━\u001b[0m \u001b[32m15.3/15.3 MB\u001b[0m \u001b[31m66.9 MB/s\u001b[0m eta \u001b[36m0:00:00\u001b[0m\n",
            "\u001b[?25hRequirement already satisfied: cffi==1.15.* in /usr/local/lib/python3.10/dist-packages (from mip) (1.15.1)\n",
            "Requirement already satisfied: pycparser in /usr/local/lib/python3.10/dist-packages (from cffi==1.15.*->mip) (2.21)\n",
            "Installing collected packages: mip\n",
            "Successfully installed mip-1.15.0\n"
          ]
        }
      ],
      "source": [
        "!pip install mip"
      ]
    },
    {
      "cell_type": "code",
      "execution_count": 2,
      "metadata": {
        "id": "Vd87Yzyg6nGC",
        "colab": {
          "base_uri": "https://localhost:8080/"
        },
        "outputId": "081b75c9-df3e-4817-823c-d53e92a1a07f"
      },
      "outputs": [
        {
          "output_type": "stream",
          "name": "stdout",
          "text": [
            "None\n"
          ]
        }
      ],
      "source": [
        "import mip\n",
        "\n",
        "T = [0, 1, 2, 3, 4, 5, 6, 7, 8, 9]\n",
        "I = [0, 1]\n",
        "d = [10, 22, 31, 35, 39, 44, 50, 57, 62, 70]  # profit\n",
        "c = [100, 120]\n",
        "a = [3, 2]\n",
        "N = 0.6\n",
        "\n",
        "m = mip.Model()\n",
        "\n",
        "x = [...]\n",
        "y = [...]\n",
        "\n",
        "# demand constrs\n",
        "for t in T:\n",
        "  m.add_constr(...)\n",
        "\n",
        "# nuclear max ratio constraints\n",
        "for t in T:\n",
        "  m.add_constr(...)\n",
        "\n",
        "# available capacity constraint\n",
        "for t in T:\n",
        "  for i in I:\n",
        "    low = max(0, t - a[i]) # use 0 instead of 1 due to T starting from 0 instead of 1\n",
        "    m.add_constr(...)\n",
        "\n",
        "m.objective = mip.minimize(...)\n",
        "\n",
        "m.optimize()\n",
        "\n",
        "print(m.objective_value)"
      ]
    }
  ],
  "metadata": {
    "colab": {
      "provenance": []
    },
    "kernelspec": {
      "display_name": "Python 3.10.8 64-bit",
      "language": "python",
      "name": "python3"
    },
    "language_info": {
      "name": "python",
      "version": "3.10.8"
    },
    "vscode": {
      "interpreter": {
        "hash": "e7370f93d1d0cde622a1f8e1c04877d8463912d04d973331ad4851f04de6915a"
      }
    }
  },
  "nbformat": 4,
  "nbformat_minor": 0
}