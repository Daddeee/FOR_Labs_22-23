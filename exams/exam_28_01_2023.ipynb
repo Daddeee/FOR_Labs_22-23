{
  "cells": [
    {
      "cell_type": "markdown",
      "metadata": {
        "id": "9wzvlUB9q2Q5"
      },
      "source": [
        "**Fill in the gaps marked with \"...\" and answer all questions at the end of the notebook.**\n",
        "\n",
        "# Exam question\n",
        "\n",
        "A loaning company must consider a number of funding applications from 10 companies:\n",
        "\n",
        "*   3 of which are textile companies,\n",
        "*   5 are agricultural holdings and\n",
        "*   2 mechanical industries.\n",
        "\n",
        "Funding should satisfy the following constraints for each type of company:\n",
        "\n",
        "*   in case the first textile company is financed the other two will not,\n",
        "*   either both mechanical companies will be financed or none will be,\n",
        "*   at least one agricultural company will be financed.\n",
        "\n",
        "Applications for funding are:\n",
        "*   \\$30, \\$20 and \\$15 million for the first, the second and the third textile company, respectively,\n",
        "*   \\$20 million for each of the agricultural companies,\n",
        "*   \\$40 and \\$30 million for the two mechanical companies.\n",
        "\n",
        "The available budget is \\$150 million.\n",
        "A return value is associated to each possible funding as follows:\n",
        "*   \\$15 million, \\$10 million and \\$10 million, respectively, for the first, the second and the third textile company,\n",
        "*   \\$20 and \\$8 million, respectively, for the two mechanical industries,\n",
        "*   \\$12 million dollars for each agricultural holding.\n",
        "\n",
        "Formulate a linear program model that maximizes the overall profit."
      ]
    },
    {
      "cell_type": "markdown",
      "metadata": {
        "id": "Cu03_nqSxIQp"
      },
      "source": [
        "## Solution\n",
        "\n",
        "### Sets:\n",
        "*   $I$ is the set of companies.\n",
        "*   $T \\subset I$ is the subset of textile companies.\n",
        "*   $M \\subset I$ is the subset of mechanical companies.\n",
        "*   $A \\subset I$ is the subset of agricultural companies.\n",
        "\n",
        "### Parameters:\n",
        "*   $d_i$ is the funding request of company $i \\in I$.\n",
        "*   $r_i$ is the profit (of the loaning company) from company $i$ if funded.\n",
        "*   $b$ is the overall available budget.\n",
        "*   $t^* \\in T$ is the first textile company.\n",
        "\n",
        "### Variables:\n",
        "*   $x_i \\in \\{0, 1\\}$ equals 1 if company i is funded, 0 otherwise.\n",
        "\n",
        "### Formulation:\n",
        "\n",
        "$$\n",
        "\\begin{array}{lll}\n",
        "\\max & \\sum_{i \\in I} r_i x_i \\\\\n",
        "\\textrm{s.t.} & \\sum_{i \\in I} d_i x_i \\le b \\\\\n",
        "              & x_i \\le 1 - x_{t^*} & \\forall i \\in T, i \\neq t^* \\\\\n",
        "              & x_i = x_j & \\forall i,j \\in M, i \\neq j \\\\\n",
        "              & \\sum_{i \\in A} x_i \\ge 1 & \\\\\n",
        "              & x_{i} \\in \\{0,1\\} & \\forall i \\in I\n",
        "\\end{array}\n",
        "$$"
      ]
    },
    {
      "cell_type": "code",
      "execution_count": 1,
      "metadata": {
        "colab": {
          "base_uri": "https://localhost:8080/",
          "height": 444
        },
        "id": "O2B71NL0qzHW",
        "outputId": "dd04c4d4-a508-45ad-c19e-68c005b21a3a"
      },
      "outputs": [
        {
          "output_type": "stream",
          "name": "stdout",
          "text": [
            "Looking in indexes: https://pypi.org/simple, https://us-python.pkg.dev/colab-wheels/public/simple/\n",
            "Collecting cffi==1.15.0\n",
            "  Downloading cffi-1.15.0-cp38-cp38-manylinux_2_12_x86_64.manylinux2010_x86_64.whl (446 kB)\n",
            "\u001b[2K     \u001b[90m━━━━━━━━━━━━━━━━━━━━━━━━━━━━━━━━━━━━━━━\u001b[0m \u001b[32m446.7/446.7 KB\u001b[0m \u001b[31m6.4 MB/s\u001b[0m eta \u001b[36m0:00:00\u001b[0m\n",
            "\u001b[?25hRequirement already satisfied: pycparser in /usr/local/lib/python3.8/dist-packages (from cffi==1.15.0) (2.21)\n",
            "Installing collected packages: cffi\n",
            "  Attempting uninstall: cffi\n",
            "    Found existing installation: cffi 1.15.1\n",
            "    Uninstalling cffi-1.15.1:\n",
            "      Successfully uninstalled cffi-1.15.1\n",
            "Successfully installed cffi-1.15.0\n"
          ]
        },
        {
          "output_type": "display_data",
          "data": {
            "application/vnd.colab-display-data+json": {
              "pip_warning": {
                "packages": [
                  "cffi"
                ]
              }
            }
          },
          "metadata": {}
        },
        {
          "output_type": "stream",
          "name": "stdout",
          "text": [
            "Looking in indexes: https://pypi.org/simple, https://us-python.pkg.dev/colab-wheels/public/simple/\n",
            "Collecting mip\n",
            "  Downloading mip-1.15.0-py3-none-any.whl (15.3 MB)\n",
            "\u001b[2K     \u001b[90m━━━━━━━━━━━━━━━━━━━━━━━━━━━━━━━━━━━━━━━━\u001b[0m \u001b[32m15.3/15.3 MB\u001b[0m \u001b[31m68.1 MB/s\u001b[0m eta \u001b[36m0:00:00\u001b[0m\n",
            "\u001b[?25hRequirement already satisfied: cffi==1.15.* in /usr/local/lib/python3.8/dist-packages (from mip) (1.15.0)\n",
            "Requirement already satisfied: pycparser in /usr/local/lib/python3.8/dist-packages (from cffi==1.15.*->mip) (2.21)\n",
            "Installing collected packages: mip\n",
            "Successfully installed mip-1.15.0\n"
          ]
        }
      ],
      "source": [
        "!pip install --upgrade cffi==1.15.0\n",
        "import importlib\n",
        "import cffi\n",
        "importlib.reload(cffi)\n",
        "!pip install mip"
      ]
    },
    {
      "cell_type": "code",
      "execution_count": null,
      "metadata": {
        "id": "Vd87Yzyg6nGC"
      },
      "outputs": [],
      "source": [
        "import mip\n",
        "\n",
        "T = [0, 1, 2] # textile companies\n",
        "A = [3, 4, 5, 6, 7] # agricultural companies\n",
        "M = [8, 9] # mechanical companies\n",
        "\n",
        "I = T + A + M # all companies\n",
        "\n",
        "d = [30, 20, 15, 20, 20, 20, 20, 20, 40, 30] # funding request\n",
        "r = [15, 10, 10, 12, 12, 12, 12, 12, 20, 8]  # profit\n",
        "\n",
        "b = 150 # budget\n",
        "\n",
        "t1 = 0  # first textile company\n",
        "\n",
        "\n",
        "m = mip.Model()\n",
        "\n",
        "x = [m.add_var(...) for i in I]\n",
        "\n",
        "budget_constr = m.add_constr(...)\n",
        "\n",
        "textile_constrs = [m.add_constr(...) for ...]\n",
        "\n",
        "mechanical_constrs = [m.add_constr(...) for ...]\n",
        "\n",
        "agricultural_constr = m.add_constr(...)\n",
        "\n",
        "m.objective = mip.maximize(...)\n",
        "\n",
        "m.optimize()\n",
        "\n",
        "print(m.objective_value)\n",
        "\n",
        "print([x[i].x for i in I])"
      ]
    },
    {
      "cell_type": "markdown",
      "metadata": {
        "id": "n8LiKX9VAoYj"
      },
      "source": [
        "Questions:\n",
        "\n",
        "1. If you increase the budget $b$ by \\$30 millions, does the objective function value increases, decreases or remains the same? Why?"
      ]
    }
  ],
  "metadata": {
    "colab": {
      "provenance": []
    },
    "kernelspec": {
      "display_name": "Python 3.10.8 64-bit",
      "language": "python",
      "name": "python3"
    },
    "language_info": {
      "name": "python",
      "version": "3.10.8"
    },
    "vscode": {
      "interpreter": {
        "hash": "e7370f93d1d0cde622a1f8e1c04877d8463912d04d973331ad4851f04de6915a"
      }
    }
  },
  "nbformat": 4,
  "nbformat_minor": 0
}