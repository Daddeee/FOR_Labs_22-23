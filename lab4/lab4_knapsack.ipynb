{
  "cells": [
    {
      "cell_type": "markdown",
      "id": "fecc29bf",
      "metadata": {
        "id": "fecc29bf"
      },
      "source": [
        "# Lab #4, part II: cover inequalities\n",
        "\n",
        "In part I we saw how to add inequalities to tighten a formulation. We now look at another well-known problem in Optimization, the Knapsack problem. Given a set $N$ of $n$ objects, each with a value $v_i$ and a weight $p_i$, find the subset of $N$ that maximizes the total value while maintaining the total weight below a given limit $q$.\n",
        "\n",
        "We can model the problem as follows:\n",
        "$$\n",
        "\\begin{array}{lll}\n",
        "\\max & \\sum_{i\\in N} v_i x_i\\\\\n",
        "\\textrm{s.t.} & \\sum_{i\\in N} p_i x_i \\le q\\\\\n",
        "              & x_i \\in \\{0,1\\} & \\forall i\\in N\n",
        "\\end{array}\n",
        "$$\n",
        "\n",
        "As for part I, we consider the _continuous_ (i.e. LP) relaxation of the problem, where $x_i \\in \\{0,1\\}$ is replaced by $0 \\le x_i \\le 1$.\n",
        "\n",
        "Let's define the data first."
      ]
    },
    {
      "cell_type": "code",
      "execution_count": null,
      "id": "e1e61cd9",
      "metadata": {
        "id": "e1e61cd9"
      },
      "outputs": [],
      "source": [
        "# When using Colab, make sure you run this instruction beforehand\n",
        "!pip install --upgrade cffi==1.15.0\n",
        "import importlib\n",
        "import cffi\n",
        "importlib.reload(cffi)\n",
        "!pip install mip"
      ]
    },
    {
      "cell_type": "code",
      "execution_count": null,
      "id": "919d556f",
      "metadata": {
        "id": "919d556f"
      },
      "outputs": [],
      "source": [
        "import numpy as np\n",
        "import mip\n",
        "\n",
        "np.random.seed(987654320)\n",
        "\n",
        "n = 10  # number of items\n",
        "\n",
        "N = range(n)\n",
        "\n",
        "q = 210  # capacity of the knapsack\n",
        "v = np.random.randint(100, size=n)  # value of each item\n",
        "p = np.random.randint(100, size=n)  # weight of each item"
      ]
    },
    {
      "cell_type": "code",
      "execution_count": null,
      "id": "385a8291",
      "metadata": {
        "id": "385a8291"
      },
      "outputs": [],
      "source": [
        "# The continuous relaxation of the knapsack problem\n",
        "\n",
        "m = mip.Model()\n",
        "\n",
        "# Create a vector of n continuous variables with values between 0 and 1 TODO\n",
        "\n",
        "# Set the objective function TODO\n",
        "\n",
        "# Write the constraint TODO\n",
        "\n",
        "m.optimize()\n",
        "\n",
        "print(\"Values: \", v)\n",
        "print(\"Weights:\", p)\n",
        "print(\"Capacity:\", q)\n",
        "print(f\"objective: {m.objective_value:.3f}; solution:\", [x[i].x for i in N])"
      ]
    },
    {
      "cell_type": "markdown",
      "id": "7916d5ed",
      "metadata": {
        "id": "7916d5ed"
      },
      "source": [
        "The solution has only one fractional variable. This is not casual: the solution to the continuous relaxation of _any_ knapsack problem, with the sole knapsack constraint, has at most one fractional variable (why?).\n",
        "\n",
        "In order to improve the dual bound, similar to the location problem in part I we can add constraints: the resulting restriction will have a _smaller_ dual bound, i.e. a smaller upper bound (because this is a maximization problem).\n",
        "\n",
        "## Cover inequalities\n",
        "\n",
        "Given the set $N=0,1,2,\\ldots{},n-1$, a vector $p = (p_0,p_1,\\ldots{},p_{n-1})$ of $n$ elements and a scalar $q$, a _cover_ $C$ is a subset of $N$ such that\n",
        "\n",
        "$$\n",
        "\\sum_{i\\in C} p_i > q.\n",
        "$$\n",
        "\n",
        "In other words, a cover is a selection of objects that exceeds the knapsack's capacity. Therefore, an optimal solution of the knapsack problem _cannot_ contain all items in the cover, but at least one of them must be excluded. We can translate this to a constraint: for any cover $C$, the following inequality is valid:\n",
        "\n",
        "$$\n",
        "\\sum_{i\\in C} x_i \\le |C| - 1.\n",
        "$$\n",
        "\n",
        "A cover for our problem is $\\{0, 2, 3\\}$, because $p_0 + p_2 + p_3 = 29 + 96 + 95 = 220 > q$. These three items canot be all picked together, so we can easily add the constraint\n",
        "\n",
        "$$\n",
        "x_0 + x_2 + x_3 \\le 2.\n",
        "$$"
      ]
    },
    {
      "cell_type": "code",
      "execution_count": null,
      "id": "4ba621fd",
      "metadata": {
        "id": "4ba621fd"
      },
      "outputs": [],
      "source": [
        "# Add the newly cover inequality to the problem TODO\n",
        "m.add_constr()\n",
        "m.optimize()\n",
        "print(f\"New objective: {m.objective_value:.3f}\")\n",
        "print(\"Solution:\", [x[i].x for i in N])\n"
      ]
    },
    {
      "cell_type": "code",
      "execution_count": null,
      "id": "54c025e7",
      "metadata": {
        "id": "54c025e7"
      },
      "outputs": [],
      "source": [
        "print(p[0] + p[4] + p[5] + p[7] + p[8] + p[9])\n"
      ]
    },
    {
      "cell_type": "markdown",
      "id": "bd4973c4",
      "metadata": {
        "id": "bd4973c4"
      },
      "source": [
        "This constraint is useless though, because the current solution does _not_ violate it: $1 + 0 + 0 = 1 \\le 2$. In fact the objective function does not change---and neither does the solution. We need a cover that yields a _violated_ cover inequality: for example, the subset of all nonzero variables $\\{0, 4, 5, 7, 8, 9\\}$:\n",
        "\n",
        "$$\n",
        "x_0 + x_4 + x_5 + x_7 + x_8 + x_9 \\le 5.\n",
        "$$"
      ]
    },
    {
      "cell_type": "code",
      "execution_count": null,
      "id": "77fc12d5",
      "metadata": {
        "id": "77fc12d5"
      },
      "outputs": [],
      "source": [
        "# Add the cover inequality TODO\n",
        "m.add_constr()\n",
        "m.optimize()\n",
        "print(f\"New objective: {m.objective_value:.3f}\")\n",
        "print(\"Solution:\", [x[i].x for i in N])"
      ]
    },
    {
      "cell_type": "code",
      "execution_count": null,
      "id": "94dc720e",
      "metadata": {
        "id": "94dc720e"
      },
      "outputs": [],
      "source": [
        "print(p[0] + p[3] + p[5] + p[7] + p[8] + p[9])\n",
        "print(x[0].x + x[3].x + x[5].x + x[7].x + x[8].x + x[9].x)\n"
      ]
    },
    {
      "cell_type": "markdown",
      "id": "412d9afb",
      "metadata": {
        "id": "412d9afb"
      },
      "source": [
        "Now we're talking! The objective function decreased (as expected) and the solution changed, but there is still a fractional value. The values close to 1 but not exactly 1 are simply due to numerical issues, we can treat them as integer. Let's try again with $C=\\{0, 3, 5, 7, 8, 9\\}$:\n",
        "\n",
        "$$\n",
        "x_0 + x_3 + x_5 + x_7 + x_8 + x_9 \\le 5\n",
        "$$"
      ]
    },
    {
      "cell_type": "code",
      "execution_count": null,
      "id": "3a6a55af",
      "metadata": {
        "id": "3a6a55af"
      },
      "outputs": [],
      "source": [
        "# Add the cover inequality TODO\n",
        "m.add_constr(x[0] + x[3] + x[5] + x[7] + x[8] + x[9] <= 5)\n",
        "\n",
        "m.optimize()\n",
        "print(f\"New objective: {m.objective_value:.3f}\")\n",
        "print([x[i].x for i in N])"
      ]
    },
    {
      "cell_type": "markdown",
      "id": "6d9ba078",
      "metadata": {
        "id": "6d9ba078"
      },
      "source": [
        "Better still, but the solution now is a lot more fractional.\n",
        "\n",
        "How do we automate this? We need a method that\n",
        "* Receives as an input $p$, $q$, and the current solution vector $x^*$;\n",
        "* Finds a cover $C$ such that $\\sum_{i\\in C} p_i > q$ (otherwise it is not a cover) and $\\sum_{i\\in C} x^*_i > |C| - 1$ (otherwise it is not violated);\n",
        "* Add the cover inequality and re-optimizes\n",
        "* Repeat from the start with an updated $x^*$.\n",
        "\n",
        "Ideally we could find a $C$ that _maximizes_ $\\sum_{i\\in C} x^*_i - (|C| - 1)$: if the result is positive, then we found a violated inequality, otherwise there is no _violated_ cover inequality.\n",
        "\n",
        "Finding a cover $C$ can be modeled as an ILP! Let's call it the _separation_ ILP and model it:\n",
        "\n",
        "* sets: $N$;\n",
        "* parameters: $x^*_i$ for $i \\in N$, vector $p$ and scalar $q$;\n",
        "* variables: $y_i$ for $i\\in N$: it is 1 if we include $i$ in the cover, 0 otherwise.\n",
        "\n",
        "With these variables, $|C|$ is defined by $\\sum_{i\\in N} y_i$. The expression $\\sum_{i\\in C} x^*_i - (|C| - 1)$, which is our objective function (to be maximized), is\n",
        "\n",
        "$$\n",
        "\\sum_{i\\in N} x^*_i y_i - (\\sum_{i\\in N} y_i - 1) = \\sum_{i\\in N} (x^*_i - 1) y_i + 1.\n",
        "$$ \n",
        "\n",
        "Is it linear?\n",
        "\n",
        "The only constraint is given by the cover condition, i.e., $\\sum_{i\\in C} p_i > q$. We can't enforce $>$ constraints but, since all $p_i$ are integer, $y_i$ are binary, and $q$ is integer, we replace $> q$ with $\\ge q+1$.\n",
        "\n",
        "$$\n",
        "\\sum_{i\\in N} p_i y_i \\ge q + 1\n",
        "$$\n"
      ]
    },
    {
      "cell_type": "code",
      "execution_count": null,
      "id": "2949cf21",
      "metadata": {
        "id": "2949cf21"
      },
      "outputs": [],
      "source": [
        "def separate(N, xstar, p, q):\n",
        "    \n",
        "    sepm = mip.Model()  # Create a new problem! This will have binary variables\n",
        "    \n",
        "    # Add binary variables called y TODO\n",
        "    y = [sepm.add_var(var_type=mip.BINARY) for i in N]\n",
        "    \n",
        "    sepm.objective = mip.maximize(mip.xsum((xstar[i] - 1) * y[i] for i in N) + 1)\n",
        "    # set the objective function for the separation problem TODO\n",
        "    \n",
        "    sepm.add_constr(mip.xsum(p[i] * y[i] for i in N) >= q + 1) # what is the constraint we need to add? TODO\n",
        "    sepm.optimize()\n",
        "    if sepm.objective_value <= 1e-5:  # Objective function is nonpositive ==> no violated cover inequality exists\n",
        "        return None\n",
        "    return [i for i in N if y[i].x > 0.5]  # check y > 0.5 for the aforementioned numerical issues\n",
        "\n",
        "# Cutting plane algorithm:\n",
        "# loop until no new inequalities are found\n",
        "\n",
        "while True:\n",
        "    cover = separate(N, [x[i].x for i in N], p, q)\n",
        "\n",
        "    if cover is None:\n",
        "        break\n",
        "\n",
        "    print(\"Cover: \", cover)\n",
        "    # If the cover is not None, add the cover inequality TODO\n",
        "    m.add_constr(mip.xsum(x[i] for i in cover) <= len(cover) - 1)\n",
        "    m.optimize()\n",
        "    print(f\"New objective: {m.objective_value:.3f}\")\n",
        "    print(\"Solution:\", end='')\n",
        "    for i in N:\n",
        "        print(f\"{x[i].x:5.3f} \", end='')\n",
        "    print(\"\")\n",
        "\n",
        "    "
      ]
    },
    {
      "cell_type": "markdown",
      "id": "9198ddfe",
      "metadata": {
        "id": "9198ddfe"
      },
      "source": [
        "In five iterations we managed to improve the dual bound from 367 to 358.\n",
        "\n",
        "Let's solve the original problem to optimality: we create a knapsack problem where all variables are binary."
      ]
    },
    {
      "cell_type": "code",
      "execution_count": null,
      "id": "275051ab",
      "metadata": {
        "id": "275051ab"
      },
      "outputs": [],
      "source": [
        "m2 = mip.Model()\n",
        "\n",
        "xb = [m2.add_var(var_type=mip.BINARY) for _ in N]  # New variables, binary this time\n",
        "\n",
        "m2.objective = mip.maximize(mip.xsum(v[i] * xb[i] for i in N)) # set the objective function TODO\n",
        "\n",
        "m2.add_constr(mip.xsum(p[i] * xb[i] for i in N) <= q)  # Add the constraint TODO\n",
        "\n",
        "m2.optimize()\n",
        "\n",
        "print(f\"objective: {m2.objective_value:.3f}; solution:\", [xb[i].x for i in N])"
      ]
    }
  ],
  "metadata": {
    "kernelspec": {
      "display_name": "Python 3 (ipykernel)",
      "language": "python",
      "name": "python3"
    },
    "language_info": {
      "codemirror_mode": {
        "name": "ipython",
        "version": 3
      },
      "file_extension": ".py",
      "mimetype": "text/x-python",
      "name": "python",
      "nbconvert_exporter": "python",
      "pygments_lexer": "ipython3",
      "version": "3.10.4"
    },
    "colab": {
      "provenance": []
    }
  },
  "nbformat": 4,
  "nbformat_minor": 5
}