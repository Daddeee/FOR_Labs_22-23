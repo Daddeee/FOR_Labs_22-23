{
 "cells": [
  {
   "cell_type": "markdown",
   "id": "c7d91530",
   "metadata": {},
   "source": [
    "# Cell phone MIP problem in parametric form\n",
    "\n",
    "This notebook shows how to model and solve the cell phone factory production MIP using a more parametric approach, i.e., a general one where data could be read from a file."
   ]
  },
  {
   "cell_type": "markdown",
   "id": "7a017746",
   "metadata": {},
   "source": [
    "## Mobile phone factory\n",
    "\n",
    "The XYZ mobile corporation produces two models of cell phone, which we'll call M1 and M2, from a pool of components. Both M1 and M2 have the basic components (display, memory, camera, CPU), while only one model, M1, has two extras: thermal FLIR camera and satellite rx/tx.\n",
    "\n",
    "The only factory of XYZ has a limited supply of each component, and the number of components for each model is described in the following table\n",
    "\n",
    "Component|M1|M2|Availability\n",
    "---------|--|--|------------\n",
    "Display|1|2|10\n",
    "Memory|2|2|18\n",
    "Camera|1|3|12\n",
    "CPU|2|3|21\n",
    "Thermal cam.|1|0|9\n",
    "Satellite rx/tx|1|0|10\n",
    "\n",
    "The sales price for M1 is 110, and for M2 it is 130. Formulate the problem of finding how many models to produce of M1 and M2 in order to mazimize the total revenue.\n"
   ]
  },
  {
   "cell_type": "markdown",
   "id": "719e58a4",
   "metadata": {},
   "source": [
    "This problem can be modeled in a simple way. First, the main decision consists in two quantities: the number of M1 and the number of M2 to produce. We assign two variables $x_1$ and $x_2$ to these quantities.\n",
    "\n",
    "Next, the optimization model will have $110 x_1 + 130 x_2$ as objective function, which should be maximized. Finally, the constraints are given by each scarse resource (displays, memories, etc.). One constraint can be given for each resource. For instance, given that there are 10 displays in total and M1 uses one while M2 uses two, this implies the constraint\n",
    "\n",
    "$$\n",
    "x_1 + 2x_2 \\le 10\n",
    "$$\n",
    "\n",
    "And similarly for all other resources. The two variables $x_1$ and $x_2$ must obviously be nonnegative and integer. The final model can be written as follows:\n",
    "\n",
    "$$\n",
    "\\begin{array}{llll}\n",
    "\\max & 110 x_1 + 130 x_2\\\\\n",
    "\\textrm{s.t.} &   x_1 + 2 x_2 & \\le 10&\\qquad\\textrm{(display)}\\\\\n",
    "              & 2 x_1 + 2 x_2 & \\le 18&\\qquad\\textrm{(memory)}\\\\\n",
    "              &   x_1 + 3 x_2 & \\le 12&\\qquad\\textrm{(camera)}\\\\\n",
    "              & 2 x_1 + 3 x_2 & \\le 21&\\qquad\\textrm{(CPU)}\\\\\n",
    "              &   x_1         & \\le 9 &\\qquad\\textrm{(thermal camera)}\\\\\n",
    "              &   x_2         & \\le 10&\\qquad\\textrm{(sat. rx/tx)}\\\\\n",
    "              & x_1, x_2 \\in \\mathbb Z_+.\n",
    "\\end{array}\n",
    "$$"
   ]
  },
  {
   "cell_type": "markdown",
   "id": "50493198",
   "metadata": {},
   "source": [
    "In matricial form, one can define\n",
    "\n",
    "$$\n",
    "x = \\left(\\begin{array}{l}x_1\\\\x_2\\end{array}\\right);\\qquad\n",
    "c = \\left(\\begin{array}{r}110\\\\130\\end{array}\\right);\\qquad\n",
    "A = \\left(\\begin{array}{rr}1&2\\\\2&2\\\\1&3\\\\2&3\\\\1&0\\\\1&0\\\\\\end{array}\\right);\\qquad\n",
    "b = \\left(\\begin{array}{r}10\\\\18\\\\12\\\\21\\\\9\\\\10\\\\\\end{array}\\right),\n",
    "$$\n",
    "\n",
    "and the model can be re-written equivalently as\n",
    "\n",
    "$$\n",
    "\\begin{array}{lll}\n",
    "\\max          & c^T x\\\\\n",
    "\\textrm{s.t.} & A x \\le b\\\\\n",
    "              & x \\in \\mathbb Z_+^2\n",
    "\\end{array}\n",
    "$$\n",
    "\n",
    "We are ready to create an optimization problem using the `mip` module. We write a more general version where the data is specified separately, so that it could even be read from a file. Note that the component usage can be created as a 6x2 \"matrix\" simply by creating a list of six elements, each being a list of two. "
   ]
  },
  {
   "cell_type": "code",
   "execution_count": null,
   "id": "758fece3",
   "metadata": {},
   "outputs": [],
   "source": [
    "# When using Colab, make sure you run this instruction beforehand\n",
    "!pip install mip"
   ]
  },
  {
   "cell_type": "code",
   "execution_count": null,
   "id": "a2c82bbe",
   "metadata": {},
   "outputs": [],
   "source": [
    "import mip\n",
    "\n",
    "n_model = 2\n",
    "n_component = 6\n",
    "\n",
    "c = [110, 130]\n",
    "\n",
    "A = [[1,2],\n",
    "     [2,2],\n",
    "     [1,3],\n",
    "     [2,3],\n",
    "     [1,0],\n",
    "     [1,0]]\n",
    "\n",
    "b = [10,18,12,21,9,10]"
   ]
  },
  {
   "cell_type": "markdown",
   "id": "ad36be21",
   "metadata": {},
   "source": [
    "Now we create an empty model and add the two integer variables $[x_1,x_2]$."
   ]
  },
  {
   "cell_type": "code",
   "execution_count": null,
   "id": "7d699e69",
   "metadata": {},
   "outputs": [],
   "source": [
    "m = mip.Model()\n",
    "x = [m.add_var(var_type=mip.INTEGER) for i in range(n_model)]"
   ]
  },
  {
   "cell_type": "markdown",
   "id": "e8d1844b",
   "metadata": {},
   "source": [
    "Let's write the objective function: in the general case, it can be written as a sum over `n_model`."
   ]
  },
  {
   "cell_type": "code",
   "execution_count": null,
   "id": "200e0e49",
   "metadata": {},
   "outputs": [],
   "source": [
    "m.objective = mip.maximize(mip.xsum(c[i]*x[i] for i in range(n_model)))"
   ]
  },
  {
   "cell_type": "markdown",
   "id": "ccc428de",
   "metadata": {},
   "source": [
    "The constraints can be generated in a loop:"
   ]
  },
  {
   "cell_type": "code",
   "execution_count": null,
   "id": "52a00c08",
   "metadata": {},
   "outputs": [],
   "source": [
    "for j in range(n_component):\n",
    "    m += mip.xsum(A[j][i]*x[i] for i in range(n_model)) <= b[j]"
   ]
  },
  {
   "cell_type": "markdown",
   "id": "7b39734c",
   "metadata": {},
   "source": [
    "The model is complete. Let's solve it and print the optimal solution."
   ]
  },
  {
   "cell_type": "code",
   "execution_count": null,
   "id": "b0e738d4",
   "metadata": {},
   "outputs": [],
   "source": [
    "m.optimize()\n",
    "\n",
    "# Print the value (.x) of each variable\n",
    "print([x[i].x for i in range(n_model)])"
   ]
  },
  {
   "cell_type": "markdown",
   "id": "58d4ab43",
   "metadata": {},
   "source": [
    "Finally we report the whole model for completeness."
   ]
  },
  {
   "cell_type": "code",
   "execution_count": null,
   "id": "175dfd30",
   "metadata": {},
   "outputs": [],
   "source": [
    "import mip\n",
    "\n",
    "n_model = 2\n",
    "n_component = 6\n",
    "\n",
    "c = [110, 130]\n",
    "\n",
    "A = [[1,2],\n",
    "     [2,2],\n",
    "     [1,3],\n",
    "     [2,3],\n",
    "     [1,0],\n",
    "     [1,0]]\n",
    "\n",
    "b = [10,18,12,21,9,10]\n",
    "\n",
    "m = mip.Model()\n",
    "x = [m.add_var(var_type=mip.INTEGER) for i in range(2)]\n",
    "\n",
    "m.objective = mip.maximize(mip.xsum(c[i]*x[i] for i in range(n_model)))\n",
    "\n",
    "for j in range(n_component):\n",
    "    m.add_constr(mip.xsum(A[j][i]*x[i] for i in range(n_model)) <= b[j])\n",
    "\n",
    "m.optimize()\n",
    "\n",
    "# Print the value (.x) of each variable\n",
    "print([x[i].x for i in range(n_model)])"
   ]
  }
 ],
 "metadata": {
  "kernelspec": {
   "display_name": "Python 3 (ipykernel)",
   "language": "python",
   "name": "python3"
  },
  "language_info": {
   "codemirror_mode": {
    "name": "ipython",
    "version": 3
   },
   "file_extension": ".py",
   "mimetype": "text/x-python",
   "name": "python",
   "nbconvert_exporter": "python",
   "pygments_lexer": "ipython3",
   "version": "3.10.4"
  }
 },
 "nbformat": 4,
 "nbformat_minor": 5
}
