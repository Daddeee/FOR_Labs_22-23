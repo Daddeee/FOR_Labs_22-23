{
 "cells": [
  {
   "cell_type": "markdown",
   "id": "95433eb4",
   "metadata": {},
   "source": [
    "# Introduction to the _mip_ Python module\n",
    "\n",
    "The module we'll become most familiar with in this course is the `mip` module, which allows for creating, manipulating, and solving optimization models with linear constraints and integer, binary, or continuous variables. Check the [homepage](https://www.python-mip.com) for full access to the documentation and updates.\n",
    "\n",
    "Suppose you want to model the following problem:\n",
    "$$\n",
    "\\begin{array}{ll}\n",
    "  \\max & x_1 + x_2\\\\\n",
    "  \\textrm{s.t.} & 2 x_1 + x_2 \\le 10\\\\\n",
    "  & x_1, x_2 \\ge 0\n",
    "\\end{array}\n",
    "$$\n",
    "\n",
    "For starters, we import the module `mip` in Python."
   ]
  },
  {
   "cell_type": "code",
   "execution_count": null,
   "id": "f51aba32",
   "metadata": {},
   "outputs": [],
   "source": [
    "# When using Colab, make sure you run this instruction beforehand\n",
    "!pip install mip"
   ]
  },
  {
   "cell_type": "code",
   "execution_count": 3,
   "id": "fef3ed10",
   "metadata": {},
   "outputs": [],
   "source": [
    "import mip"
   ]
  },
  {
   "cell_type": "markdown",
   "id": "1bd89fa3",
   "metadata": {},
   "source": [
    "Next, we create an optimization model `m`. We do so by calling the `mip.Model` *constructor* method. We also create two variables `x1` and `x2` using the `add_var()` method from the optimization model."
   ]
  },
  {
   "cell_type": "code",
   "execution_count": 4,
   "id": "5250da1b",
   "metadata": {},
   "outputs": [],
   "source": [
    "m = mip.Model()\n",
    "\n",
    "x1 = m.add_var()\n",
    "x2 = m.add_var()"
   ]
  },
  {
   "cell_type": "markdown",
   "id": "3de70a50",
   "metadata": {},
   "source": [
    "We now add the single constraint and the objective. \n",
    "\n",
    "To add the constraint, we use the method `add_constr` from the optimization model.\n",
    "To add the objective function, we set the `objective` attribute of `m`. We use the method `mip.maximize`, to indicate that this is a function to be maximized.\n",
    "\n",
    "For now, since both the constraint and the objective are very simple, we fully write them as algebraic expressions of `x1` and `x2`."
   ]
  },
  {
   "cell_type": "code",
   "execution_count": 7,
   "id": "57a8e7b6",
   "metadata": {},
   "outputs": [],
   "source": [
    "m.add_constr(2*x1 + x2 <= 10)\n",
    "\n",
    "m.objective = mip.maximize(x1 + x2)"
   ]
  },
  {
   "cell_type": "markdown",
   "id": "f3fbd145",
   "metadata": {},
   "source": [
    "Finally, we call the method `optimize` to solve the problem and print the value of the optimal solution. For a variable `v` of the module `mip`, its value in the optimal solution is retrieved as the attribute `.x`, for example `v.x`."
   ]
  },
  {
   "cell_type": "code",
   "execution_count": 6,
   "id": "50f37f13",
   "metadata": {},
   "outputs": [
    {
     "name": "stdout",
     "output_type": "stream",
     "text": [
      "solution: 0.0 , 10.0\n"
     ]
    }
   ],
   "source": [
    "m.optimize()\n",
    "\n",
    "print('solution:', x1.x, ',', x2.x)"
   ]
  },
  {
   "cell_type": "markdown",
   "id": "b31d619b",
   "metadata": {},
   "source": [
    "Here's the complete program."
   ]
  },
  {
   "cell_type": "code",
   "execution_count": null,
   "id": "d890a88e",
   "metadata": {},
   "outputs": [],
   "source": [
    "import mip\n",
    "\n",
    "m = mip.Model()\n",
    "\n",
    "x1 = m.add_var()\n",
    "x2 = m.add_var()\n",
    "\n",
    "m.objective = mip.maximize(x1 + x2)\n",
    "m.add_constr(2*x1 + x2 <= 10)\n",
    "\n",
    "m.optimize()\n",
    "\n",
    "print('solution:', x1.x, ',', x2.x)"
   ]
  },
  {
   "cell_type": "markdown",
   "id": "d0501107",
   "metadata": {},
   "source": [
    "# A slightly more advanced example\n",
    "\n",
    "Let us now consider a slightly more complicated example: formulating and solving a knapsack problem.\n",
    "\n",
    "$$\n",
    "\\begin{array}{lll}\n",
    "\\max & 3 x_1 + 4 x_2 + 7 x_3 + 5 x_4\\\\\n",
    "\\textrm{s.t.} & 4 x_1 + 5 x_2 + 6 x_3 + 4 x_4 \\le 13\\\\\n",
    "              & x_1, x_2, x_3, x_4 \\in \\{0,1\\}\n",
    "\\end{array}\n",
    "$$\n",
    "\n",
    "For starters, we import the module and define the data used in this model."
   ]
  },
  {
   "cell_type": "code",
   "execution_count": 1,
   "id": "662ee5a1",
   "metadata": {},
   "outputs": [],
   "source": [
    "# First: import the Python-MIP module\n",
    "import mip\n",
    "\n",
    "# Second, define data: two vectors for value and weight and a scalar\n",
    "# for the right-hand side of the only constraint\n",
    "value = [3, 4, 7, 5]\n",
    "weight = [4, 5, 6, 4]\n",
    "max_weight = 13"
   ]
  },
  {
   "cell_type": "markdown",
   "id": "b99cce31",
   "metadata": {},
   "source": [
    "Next, we create an optimization model with the `mip.Model` *constructor* method. \n",
    "\n",
    "We also add four variables using a list, and call that list `x`. Note that we are using a so-called _list comprehension_ to create variables, i.e., we put a `for` construct _inside_ the list in order to create as many list elements as there are numbers in `range(4)`. As you may have gathered from previous cells, `range(4)` is the set of numbers `0, 1, 2, 3`."
   ]
  },
  {
   "cell_type": "code",
   "execution_count": 2,
   "id": "bd0e7f92",
   "metadata": {},
   "outputs": [],
   "source": [
    "# Create model\n",
    "m = mip.Model()\n",
    "\n",
    "x = [m.add_var(var_type=mip.BINARY) for i in range(4)]"
   ]
  },
  {
   "cell_type": "markdown",
   "id": "9c25dd17",
   "metadata": {},
   "source": [
    "We now add the single constraint and the objective. In order to create the sum $\\sum_i w_i x_i$, the method `mip.xsum` houls be used. As an argument, one again uses a `for` construct inside the `xsum` argument. The expression\n",
    "\n",
    "```python\n",
    "weight[i] * x[i] for i in range(4)\n",
    "```\n",
    "\n",
    "generates all products $w_ix_i$ for all $i\\in \\{0,1,2,3\\}$ (I know it might be tricky for many to get used to the idea that indices begin at zero in Python, but this will come in handy in the future). This expression is then wrapped inside a `mip.xsum`, which is constrained to be lesser than or equal to `max_weight`. This is the constraint. It is added to the model with the `+=` operator, which is common in Python and other languages such as C/C++ or Java; `a += b` means \"add `b` to `a` and store the result in `a`\".\n",
    "\n",
    "The objective function is a similar `mip.xsum` construction, this time with `value[i]` instead of `weight[i]` for coefficients. It is assigned as the model's objective function with the method `mip.maximize`, to indicate that this is obviously a function to be maximized."
   ]
  },
  {
   "cell_type": "code",
   "execution_count": 4,
   "id": "7232f1b7",
   "metadata": {},
   "outputs": [],
   "source": [
    "m.add_constr(mip.xsum(weight[i] * x[i] for i in range(4)) <= max_weight)\n",
    "\n",
    "m.objective = mip.maximize(mip.xsum(value[i] * x[i] for i in range(4)))"
   ]
  },
  {
   "cell_type": "markdown",
   "id": "fd0dc36f",
   "metadata": {},
   "source": [
    "Finally, we call the method `optimize` to solve the problem and print the value of the optimal solution. For a variable `v` of the module `mip`, its value in the optimal solution is retrieved as the attribute `.x`, for example `v.x`."
   ]
  },
  {
   "cell_type": "code",
   "execution_count": 5,
   "id": "8d4dd926",
   "metadata": {},
   "outputs": [
    {
     "name": "stdout",
     "output_type": "stream",
     "text": [
      "[1.0, 1.0, 0.0, 1.0]\n"
     ]
    }
   ],
   "source": [
    "m.optimize()\n",
    "\n",
    "print([x[i].x for i in range(4)])"
   ]
  },
  {
   "cell_type": "markdown",
   "id": "12df7510",
   "metadata": {},
   "source": [
    "And here is the whole model in all its glory."
   ]
  },
  {
   "cell_type": "code",
   "execution_count": 6,
   "id": "e6bffc3a",
   "metadata": {},
   "outputs": [
    {
     "name": "stdout",
     "output_type": "stream",
     "text": [
      "[1.0, 1.0, 0.0, 1.0]\n"
     ]
    }
   ],
   "source": [
    "# First: import the Python-MIP module\n",
    "import mip\n",
    "\n",
    "# Second, define data: two vectors for value and weight and a scalar\n",
    "# for the right-hand side of the only constraint\n",
    "value = [3, 4, 7, 5]\n",
    "weight = [4, 5, 6, 4]\n",
    "max_weight = 13\n",
    "\n",
    "# Create model\n",
    "m = mip.Model(sense=mip.MAXIMIZE)\n",
    "\n",
    "x = [m.add_var(var_type=mip.BINARY) for i in range(4)]\n",
    "\n",
    "m.add_constr(mip.xsum(weight[i] * x[i] for i in range(4)) <= max_weight)\n",
    "m.objective = mip.maximize(mip.xsum(value[i] * x[i] for i in range(4)))\n",
    "\n",
    "m.optimize()\n",
    "\n",
    "print([x[i].x for i in range(4)])"
   ]
  },
  {
   "cell_type": "markdown",
   "id": "290ec1dd",
   "metadata": {},
   "source": [
    "Obviously, we could have just formulated the non-parametric version of the problem. Here it is:"
   ]
  },
  {
   "cell_type": "code",
   "execution_count": null,
   "id": "e3e295e5",
   "metadata": {},
   "outputs": [],
   "source": [
    "# First: import the Python-MIP module\n",
    "import mip\n",
    "\n",
    "# Create model\n",
    "m = mip.Model(sense=mip.MAXIMIZE)\n",
    "\n",
    "x1 = m.add_var(var_type=mip.BINARY)\n",
    "x2 = m.add_var(var_type=mip.BINARY)\n",
    "x3 = m.add_var(var_type=mip.BINARY)\n",
    "x4 = m.add_var(var_type=mip.BINARY)\n",
    "\n",
    "m.add_constr(4*x1 + 5*x2 + 6*x3 + 4*x4 <= max_weight)\n",
    "m.objective = mip.maximize(3*x1 + 4*x2 + 7*x3 + 5*x4)\n",
    "\n",
    "m.optimize()\n",
    "\n",
    "print(\"Solution:\", x1.x, \"\", x2.x, \"\", x3.x, \"\", x4.x)\n",
    "\n",
    "# If you feel a bit more adventurous, try to understand what the following means:\n",
    "# print (\"Solution: {0}, {1}, {2:.8f}, {3}\".format(x1.x, x2.x, x3.x, x4.x))"
   ]
  },
  {
   "cell_type": "markdown",
   "id": "bc01a0e4",
   "metadata": {},
   "source": [
    "## Miscellanea and troubleshooting\n",
    "\n",
    "After this first MIP model it's time to say something more about Python.\n",
    "\n",
    "### Re-running code on Jupyter notebooks\n",
    "Code on Jupyter notebooks is fed into Python one cell at a time. If the notebook is written correctly, you should be able to click into the first cell, then just do a `shift`+`enter` through the last cell without any error.\n",
    "\n",
    "You are also able to re-run any cell multiple times, in any sequence you want. However, be aware that Python sees a sequence of cells it is given, and does not know whether an instruction should be undone or not. Therefore, once a cell is run, its results are _persistent_, at least until we reset them. One big red button is the __Restart__ command under the _Kernel_ tab in the menu: it clears all memory of whatever was done in the cell so far (though obviously not file operations). Later in this notebook we show an example of the trouble persistence can cause.\n",
    "\n",
    "### Indentation\n",
    "Indentation is crucial: in a `for` loop, an `if` block, or a function definition, the inner part __MUST__ be indented consistently. Python will throw an error in the following cases:\n",
    "\n",
    "```python\n",
    "for i in [1,2,3]:\n",
    "print(i)\n",
    "```\n",
    "Here the `print` instruction should be indented by at least one space.\n",
    "```python\n",
    "if i==4:\n",
    "    print('i is 4')\n",
    "  print('deal with it')\n",
    "```\n",
    "Here indentation is inconsistent.\n",
    "```python\n",
    "def myfunction(a):\n",
    "return a**4 + 5*a**3\n",
    "```\n",
    "Same as the first incorrect example. The correct way to write these examples is as follows:\n",
    "```python\n",
    "for i in [1,2,3]:\n",
    "    print(i)\n",
    "\n",
    "if i==4:\n",
    "    print('i is 4')\n",
    "    print('deal with it')\n",
    "\n",
    "def myfunction(a):\n",
    "    return a**4 + 5*a**3\n",
    "```\n",
    "The suggested indentation is 4 characters.\n",
    "\n",
    "### Assignment vs. equality\n",
    "The sign `=` is for _assignment_, while `==` is for checking equality of two expressions. You can write `if a == 4` but not `if a = 4`. Also, writing the statement `a = 4` is correct, and so is `a == 4`; however, the latter has no effect (apart from returning `True` or `False` on the Python command line).\n",
    "\n",
    "### Semicolons, be gone!\n",
    "You may have noticed that Python doesn't require semicolons (`;`) at the end of each instruction, as other languages like C, C++, Java, AMPL do. This makes for more readable and prettier code, but indentation is enforced with this in mind.\n",
    "\n",
    "### Writing a statement on multiple lines\n",
    "Related to the last point: conditions can be split on multiple lines as long as a `\\` is added at the end of all but the last one, for example:\n",
    "```python\n",
    "if i==3 or \\\n",
    "   i==4:\n",
    "    print('i is not 5')\n",
    "```\n",
    "But the `\\` is not necessary if there is an unclosed parenthesis, for instance:\n",
    "```python\n",
    "if (i==3 or i==5 or\n",
    "    i==7):\n",
    "    print('i is prime')\n",
    "```\n",
    "### If you're feeling a bit masochistic...\n",
    "A good way to check if your Python program was written according to the standard is to run the `flake8` module on it. Just run `flake8 myprogram.py` and check all the errors it throws (there are usually a ton)."
   ]
  },
  {
   "cell_type": "markdown",
   "id": "fc9204aa",
   "metadata": {},
   "source": [
    "## Persistence and debugging in Jupyer notebooks\n",
    "\n",
    "Suppose you want to model the following problem:\n",
    "$$\n",
    "\\begin{array}{ll}\n",
    "  \\max & x_1 + x_2\\\\\n",
    "  \\textrm{s.t.} & 2 x_1 + x_2 \\le 10\\\\\n",
    "  & x_1, x_2 \\ge 0\n",
    "\\end{array}\n",
    "$$\n",
    "Let's write the model using `mip`:"
   ]
  },
  {
   "cell_type": "code",
   "execution_count": 1,
   "id": "681a3ee1",
   "metadata": {},
   "outputs": [
    {
     "name": "stdout",
     "output_type": "stream",
     "text": [
      "solution: 0.0 , 10.0\n"
     ]
    }
   ],
   "source": [
    "import mip\n",
    "\n",
    "m = mip.Model()\n",
    "\n",
    "x1 = m.add_var(name='x1')\n",
    "x2 = m.add_var(name='x2')\n",
    "\n",
    "m.objective = mip.maximize(x1 + x2)\n",
    "m.add_constr(2*x1 + x2 <= 10)\n",
    "\n",
    "m.optimize()\n",
    "\n",
    "print('solution:', x1.x, ',', x2.x)"
   ]
  },
  {
   "cell_type": "markdown",
   "id": "611bd761",
   "metadata": {},
   "source": [
    "Suppose now we want to relax the constraint, for instance change the right-hand side to 20:"
   ]
  },
  {
   "cell_type": "code",
   "execution_count": 2,
   "id": "7319df27",
   "metadata": {},
   "outputs": [
    {
     "name": "stdout",
     "output_type": "stream",
     "text": [
      "solution: 0.0 , 10.0\n"
     ]
    }
   ],
   "source": [
    "m.add_constr(2*x1 + x2 <= 20)\n",
    "\n",
    "m.optimize()\n",
    "\n",
    "print('solution:', x1.x, ',', x2.x)"
   ]
  },
  {
   "cell_type": "markdown",
   "id": "56bc6eca",
   "metadata": {},
   "source": [
    "The solution is the same even though we relaxed the problem. Why? Well, the problem has two constraints: the one we added in the first cell (which is the more restrictive one) and the last constraint. If we want to relax a problem or change it otherwise, we should modify the cell it is contained in."
   ]
  }
 ],
 "metadata": {
  "kernelspec": {
   "display_name": "Python 3 (ipykernel)",
   "language": "python",
   "name": "python3"
  },
  "language_info": {
   "codemirror_mode": {
    "name": "ipython",
    "version": 3
   },
   "file_extension": ".py",
   "mimetype": "text/x-python",
   "name": "python",
   "nbconvert_exporter": "python",
   "pygments_lexer": "ipython3",
   "version": "3.10.4"
  }
 },
 "nbformat": 4,
 "nbformat_minor": 5
}
