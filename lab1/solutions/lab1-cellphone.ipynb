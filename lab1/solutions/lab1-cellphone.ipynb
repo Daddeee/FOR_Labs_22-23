{
 "cells": [
  {
   "cell_type": "markdown",
   "id": "8ac4bdd7",
   "metadata": {},
   "source": [
    "# MIP examples: the cell phone factory\n",
    "\n",
    "In this session, we'll try to model and solve a problem of production planning at a mobile phone factory."
   ]
  },
  {
   "cell_type": "markdown",
   "id": "4512a38c",
   "metadata": {},
   "source": [
    "## Mobile phone factory\n",
    "\n",
    "The XYZ mobile corporation produces two models of cell phone, which we'll call M1 and M2, from a pool of components. Both M1 and M2 have the basic components (display, memory, camera, CPU), while only one model, M1, has two extras: thermal FLIR camera and satellite rx/tx.\n",
    "\n",
    "The only factory of XYZ has a limited supply of each component, and the number of components for each model is described in the following table\n",
    "\n",
    "Component|M1|M2|Availability\n",
    "---------|--|--|------------\n",
    "Display|1|2|10\n",
    "Memory|2|2|18\n",
    "Camera|1|3|12\n",
    "CPU|2|3|21\n",
    "Thermal cam.|1|0|9\n",
    "Satellite rx/tx|1|0|10\n",
    "\n",
    "The sales price for M1 is 110, and for M2 it is 130. Formulate the problem of finding how many models to produce of M1 and M2 in order to mazimize the total revenue.\n"
   ]
  },
  {
   "cell_type": "markdown",
   "id": "2365c436",
   "metadata": {},
   "source": [
    "This problem can be modeled in a simple way. First, the main decision consists in two quantities: the number of M1 and the number of M2 to produce. We assign two variables $x_1$ and $x_2$ to these quantities.\n",
    "\n",
    "Next, the optimization model will have $110 x_1 + 130 x_2$ as objective function, which should be maximized. Finally, the constraints are given by each scarse resource (displays, memories, etc.). One constraint can be given for each resource. For instance, given that there are 10 displays in total and M1 uses one while M2 uses two, this implies the constraint\n",
    "\n",
    "$$\n",
    "x_1 + 2x_2 \\le 10\n",
    "$$\n",
    "\n",
    "And similarly for all other resources. The two variables $x_1$ and $x_2$ must obviously be nonnegative and integer. The final model can be written as follows:\n",
    "\n",
    "$$\n",
    "\\begin{array}{llll}\n",
    "\\max & 110 x_1 + 130 x_2\\\\\n",
    "\\textrm{s.t.} &   x_1 + 2 x_2 & \\le 10&\\qquad\\textrm{(display)}\\\\\n",
    "              & 2 x_1 + 2 x_2 & \\le 18&\\qquad\\textrm{(memory)}\\\\\n",
    "              &   x_1 + 3 x_2 & \\le 12&\\qquad\\textrm{(camera)}\\\\\n",
    "              & 2 x_1 + 3 x_2 & \\le 21&\\qquad\\textrm{(CPU)}\\\\\n",
    "              &   x_1         & \\le 9 &\\qquad\\textrm{(thermal camera)}\\\\\n",
    "              &   x_2         & \\le 10&\\qquad\\textrm{(sat. rx/tx)}\\\\\n",
    "              & x_1, x_2 \\in \\mathbb Z_+.\n",
    "\\end{array}\n",
    "$$"
   ]
  },
  {
   "cell_type": "code",
   "execution_count": null,
   "id": "9d05e1be",
   "metadata": {},
   "outputs": [],
   "source": [
    "# When using Colab, make sure you run this instruction beforehand\n",
    "!pip install mip"
   ]
  },
  {
   "cell_type": "code",
   "execution_count": null,
   "id": "2f6226a1",
   "metadata": {},
   "outputs": [],
   "source": [
    "import mip\n",
    "\n",
    "m = mip.Model()\n",
    "\n",
    "x1 = m.add_var(var_type=mip.INTEGER)\n",
    "x2 = m.add_var(var_type=mip.INTEGER)\n",
    "\n",
    "m.objective = mip.maximize(110*x1 + 130*x2)\n",
    "\n",
    "m.add_constr(  x1 + 2*x2 <= 10)\n",
    "m.add_constr(2*x1 + 2*x2 <= 18)\n",
    "m.add_constr(  x1 + 3*x2 <= 12)\n",
    "m.add_constr(2*x1 + 3*x2 <= 21)\n",
    "m.add_constr(  x1        <=  9)\n",
    "m.add_constr(  x1        <= 10)\n",
    "\n",
    "m.optimize()\n",
    "\n",
    "print(x1.x, x2.x)"
   ]
  }
 ],
 "metadata": {
  "kernelspec": {
   "display_name": "Python 3 (ipykernel)",
   "language": "python",
   "name": "python3"
  },
  "language_info": {
   "codemirror_mode": {
    "name": "ipython",
    "version": 3
   },
   "file_extension": ".py",
   "mimetype": "text/x-python",
   "name": "python",
   "nbconvert_exporter": "python",
   "pygments_lexer": "ipython3",
   "version": "3.10.4"
  }
 },
 "nbformat": 4,
 "nbformat_minor": 5
}
