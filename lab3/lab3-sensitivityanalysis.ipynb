{
 "cells": [
  {
   "cell_type": "markdown",
   "metadata": {},
   "source": [
    "# Lab 3, part I: sensitivity analysis\n",
    "\n",
    "This lab focuses on sensitivity analysis. After solving a problem with three constraints and four variables, we will change the problem slightly and re-solve it to evaluate how the solution and the objective function change. Then we'll use the problem's dual variables and reduced costs to arrive at the same result.\n",
    "\n",
    "Consider the product mix problem: A factory produces 4 types of perfume by mixing 5 ingredients. Denote as $P=\\{1,2,3,4\\}$ the set of perfumes, and as $I=\\{1,2,3,4,5\\}$ the set of ingredients. The retail price for each liter of perfume $p\\in P$ is $c_p$, defined in the table below:\n",
    "\n",
    "|Perfume | 1 | 2 | 3 | 4 |\n",
    "|--------|---|---|---|---|\n",
    "|Retail price  |300|255|260|390|\n",
    "\n",
    "One liter of perfume $p$ requires a quantity $a_{ip}$ of the ingredient $i$, also expressed in liters, as specified below:\n",
    "\n",
    "|Ingredient\\Perfume|1|2|3|4|\n",
    "|-|-|-|-|-|\n",
    "|1|0.01|0.05|0.07|0.04|\n",
    "|2|0.34|0.45|0.36|0.51|\n",
    "|3|0.08|0.06|0.12|0.12|\n",
    "|4|0.55|0.35|0.29|0.32|\n",
    "|5|0.02|0.09|0.16|0.01|\n",
    "\n",
    "There is a finite amount (in liters) of each ingredient expressed by $b_i$, for all $i\\in I$ and defined in the following table:\n",
    "\n",
    "|Ingredient|1|2|3|4|5|\n",
    "|----------|-|-|-|-|-|\n",
    "|Availability|30|400|90|450|70|\n",
    "\n",
    "Here are the tasks for this exercise:\n",
    "\n",
    "1. Determine the amount of perfume to produce for each type in order to maximize the total revenue;\n",
    "2. What could allow us to increase the total profit without changing the retail price $c_p$ and the percentage $a_{ip}$?\n",
    "3. Find what constraint(s) are the most restrictive by changing one of the input parameters $b_i$;\n",
    "4. Are all perfumes produced? If any of them is not produced, can we increase its retail price so that it is worth to produce it? By how much?"
   ]
  },
  {
   "cell_type": "code",
   "execution_count": null,
   "metadata": {},
   "outputs": [],
   "source": [
    "# When using Colab, make sure you run this instruction beforehand\n",
    "!pip install --upgrade cffi==1.15.0\n",
    "import importlib\n",
    "import cffi\n",
    "importlib.reload(cffi)\n",
    "!pip install mip"
   ]
  },
  {
   "cell_type": "markdown",
   "metadata": {},
   "source": [
    "## Solution\n",
    "\n",
    "Task 1: __Determine the amount of perfume to produce for each type in order to maximize the total revenue.__\n",
    "\n",
    "We must create an optimization problem for this purpose. First, define sets and parameters:\n",
    "\n",
    "* Set $P = \\{1,2,3,4\\}$;\n",
    "* Set $I = \\{1,2,3,4,5\\}$;\n",
    "* Retail price $c = (300,255,260,390)^\\top$;\n",
    "* Availability $b = (30,400,90,450,70)^\\top$;\n",
    "* Composition $A = \\left(\n",
    "\\begin{array}{rrrrr}\n",
    "0.01 & 0.05 & 0.07 & 0.04\\\\\n",
    "0.34 & 0.45 & 0.36 & 0.51\\\\\n",
    "0.08 & 0.06 & 0.12 & 0.12\\\\\n",
    "0.55 & 0.35 & 0.29 & 0.32\\\\\n",
    "0.02 & 0.09 & 0.16 & 0.01\\\\\n",
    "\\end{array}\n",
    "\\right)$\n",
    "\n",
    "There is only one class of variables, $x_i$ for each $i\\in P$, i.e. one nonnegative variable for each type of perfume. The problem is then as follows:\n",
    "\n",
    "$$\n",
    "\\begin{array}{lrrrrrr}\n",
    "\\max          & 300 x_1 &+  255 x_2 &+  260 x_3  &+ 390 x_4\\\\\n",
    "\\textrm{s.t.} &0.01 x_1 &+ 0.05 x_2 &+ 0.07 x_3 &+ 0.04 x_4 &\\le & 30\\\\\n",
    "              &0.34 x_1 &+ 0.45 x_2 &+ 0.36 x_3 &+ 0.51 x_4 &\\le &400\\\\\n",
    "              &0.08 x_1 &+ 0.06 x_2 &+ 0.12 x_3 &+ 0.12 x_4 &\\le & 90\\\\\n",
    "              &0.55 x_1 &+ 0.35 x_2 &+ 0.29 x_3 &+ 0.32 x_4 &\\le &450\\\\\n",
    "              &0.02 x_1 &+ 0.09 x_2 &+ 0.16 x_3 &+ 0.01 x_4 &\\le & 70\\\\\n",
    "              &x_1, &x_2, &x_3, &x_4 &\\ge& 0,\n",
    "\\end{array}\n",
    "$$\n",
    "\n",
    "or, more concisely,\n",
    "\n",
    "$$\n",
    "\\begin{array}{ll}\n",
    "\\max& c^\\top x\\\\\n",
    "\\textrm{s.t.} & Ax \\le b\\\\\n",
    "              & x \\ge 0.\n",
    "\\end{array}\n",
    "$$\n",
    "\n",
    "We implement it below using Python-MIP.\n",
    "\n",
    "Because we will solve this problem more than once, we create a function that takes $A$, $b$, and $c$ as arguments and returns the optimal solution found, its objective function value, and the model itself."
   ]
  },
  {
   "cell_type": "code",
   "execution_count": null,
   "metadata": {},
   "outputs": [],
   "source": [
    "import mip\n",
    "\n",
    "c = [300, 255, 260, 390]\n",
    "b = [30, 400, 90, 450, 70]\n",
    "\n",
    "A = \\\n",
    "[[0.01, 0.05, 0.07, 0.04],\n",
    " [0.34, 0.45, 0.36, 0.51],\n",
    " [0.08, 0.06, 0.12, 0.12],\n",
    " [0.55, 0.35, 0.29, 0.32],\n",
    " [0.02, 0.09, 0.16, 0.01]]\n",
    "\n",
    "def solve_productmix(A, b, c):\n",
    "    \"\"\"\n",
    "    Solve the problem max{cx: Ax <= b, x >= 0} with A, b, c passed as arguments\n",
    "    \"\"\"\n",
    "\n",
    "    n = len(c)\n",
    "    k = len(b)\n",
    "\n",
    "    # create model (TODO)\n",
    "    m =\n",
    "    \n",
    "    # add variables (TODO)\n",
    "    x =\n",
    "\n",
    "    # One constraint per ingredient (TODO)\n",
    "    for i in range(k):\n",
    "        m.add_constr()\n",
    "    \n",
    "    # Objective function is a weighted sum of all x (TODO)\n",
    "    m.objective = \n",
    "    # Solve\n",
    "    m.optimize()\n",
    "\n",
    "    # Return a tuple containing model, solution, and objective value\n",
    "    return (m, [x[j].x for j in range(n)], m.objective_value)\n",
    "\n",
    "\n",
    "# Use \"_\" because we don't care about the model in this call\n",
    "_, solution, objective = solve_productmix(A,b,c)\n",
    "\n",
    "print(\"Solution:\", solution)\n",
    "print(\"Objective: {0:10.2f}\".format(objective))"
   ]
  },
  {
   "cell_type": "markdown",
   "metadata": {},
   "source": [
    "Task 2: __What could allow us to increase the total profit without changing the retail price $c_p$ and the composition $a_{ip}$?__\n",
    "\n",
    "If the retail price and the composition cannot change, we can only modify the availability. For example, by increasing all values of $b$ by 10%, we can easily increase the revenue by the same percentage:"
   ]
  },
  {
   "cell_type": "code",
   "execution_count": null,
   "metadata": {},
   "outputs": [],
   "source": [
    "# Create b2 that is 1.1 times b (TODO)\n",
    "b2 = []\n",
    "\n",
    "_, solution2, objective2 = solve_productmix(A,b2,c)\n",
    "\n",
    "print(\"Solution:\", solution2)\n",
    "print(f\"Objective: {objective2}, increase: {((objective2 - objective) / objective) * 100: 6.2f}%\")"
   ]
  },
  {
   "cell_type": "markdown",
   "metadata": {},
   "source": [
    "Task 3: __Find which constraint is the most restrictive by changing the input parameters $b_i$ one by one.__\n",
    "\n",
    "We can loop over each ingredient and solve a problem where one of the components is increased by 0.1. This will tell us which constraint could be relaxed to increase the total revenue, and possibly which one yields the greatest increase."
   ]
  },
  {
   "cell_type": "code",
   "execution_count": null,
   "metadata": {},
   "outputs": [],
   "source": [
    "for i in I:\n",
    "    b3 = ...    # (TODO) Use [:] to make a copy of b, as otherwise modifying b3 would change b as well\n",
    "    b3[i] = ... # (TODO) Make a tiny change to the right-hand side\n",
    "    # (TODO) solve problem with new right-hand side vector\n",
    "    _, solution3, obj = solve_productmix(...)\n",
    "\n",
    "    print(f\"Objective: {obj:10.2f}, Increase: {obj - objective:8.2f}, {(obj - objective)/objective * 100:5.2f}%\")"
   ]
  },
  {
   "cell_type": "markdown",
   "metadata": {},
   "source": [
    "However, there is no need to solve as many LPs as the constraints. This information is returned back to us with the __dual variables__ of the original problem. These give the unitary change in objective function due to a change in the right-hand side in each constraint."
   ]
  },
  {
   "cell_type": "code",
   "execution_count": null,
   "metadata": {},
   "outputs": [],
   "source": [
    "m, sol, obj = solve_productmix(A,b,c)\n",
    "# Use mip documentation at https://python-mip.readthedocs.io/en/latest/classes.html\n",
    "# to find out how to get the dual variables of the constraints (and print them)"
   ]
  },
  {
   "cell_type": "markdown",
   "metadata": {},
   "source": [
    "Task 4: __Are all perfumes produced? If any of them is not produced, can we increase its retail price so that it is worth to produce it? By how much?__\n",
    "\n",
    "In the original solution, perfume 3 is not produced. Its retail price $c_3$, which is also its objective function coefficient, is 260. Let's try running a loop where we increase $c_3$ by 5 until $x_3>0$ in the optimal solution."
   ]
  },
  {
   "cell_type": "code",
   "execution_count": null,
   "metadata": {},
   "outputs": [],
   "source": [
    "c_new = c[:]  # Create a new list as a copy of c to use as objective function value below\n",
    "sol = solution[:]  # Copy sol as well\n",
    "\n",
    "while sol[2] <= 1e-5:  # Sol[2] is x_3 (remember that Python has 0-based indexing)\n",
    "    c_new[2] += ...  # (TODO) increase by 5 objective function coefficient of item 3 (index 2) \n",
    "    m2, sol, obj2 = solve_productmix(...)  # (TODO) solve problem with new objective function\n",
    "    print(f\"With c_3 = {c_new[2]}: produce {sol[2]} liters of 3\")\n",
    "\n",
    "print (f\"We need to set the price c_3 to {c_new[2]}\")"
   ]
  },
  {
   "cell_type": "markdown",
   "metadata": {},
   "source": [
    "Again, we don't need to solve that many problems. All we need is the __reduced cost__ of $x_3$."
   ]
  },
  {
   "cell_type": "code",
   "execution_count": null,
   "metadata": {},
   "outputs": [],
   "source": [
    "# Use mip documentation at https://python-mip.readthedocs.io/en/latest/classes.html\n",
    "# to find out how to get the reduced costs of the variable x_3 (and print it)"
   ]
  },
  {
   "cell_type": "markdown",
   "metadata": {},
   "source": [
    "Notice anything? If we add 97.6466 to the original retail price $c_3$, we get $260 + 97.6466 = 357.6466$, which is between 355 and 360. Let's make a fine-grained comparison between two very close values of $c_3$: one at $260 + 97.64 = 357.64$ and another one at $260 + 97.65 = 357.65$. The prediction is that the first will give a value of zero for $x_3$, unlike the second."
   ]
  },
  {
   "cell_type": "code",
   "execution_count": null,
   "metadata": {},
   "outputs": [],
   "source": [
    "c_test = c[:]\n",
    "\n",
    "c_test[2] = c[2] + 97.64\n",
    "_, sol, obj = solve_productmix(A,b,c_test)\n",
    "print(f\"before threshold: x_3 = {sol[2]}\")\n",
    "\n",
    "c_test[2] = c[2] + 97.65\n",
    "_, sol, obj = solve_productmix(A,b,c_test)\n",
    "print(f\"after threshold: x_3 = {sol[2]}\")"
   ]
  }
 ],
 "metadata": {
  "kernelspec": {
   "display_name": "Python 3.10.8 64-bit",
   "language": "python",
   "name": "python3"
  },
  "language_info": {
   "codemirror_mode": {
    "name": "ipython",
    "version": 3
   },
   "file_extension": ".py",
   "mimetype": "text/x-python",
   "name": "python",
   "nbconvert_exporter": "python",
   "pygments_lexer": "ipython3",
   "version": "3.10.8"
  },
  "vscode": {
   "interpreter": {
    "hash": "e7370f93d1d0cde622a1f8e1c04877d8463912d04d973331ad4851f04de6915a"
   }
  }
 },
 "nbformat": 4,
 "nbformat_minor": 4
}
