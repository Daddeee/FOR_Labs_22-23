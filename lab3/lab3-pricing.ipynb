{
 "cells": [
  {
   "cell_type": "markdown",
   "metadata": {},
   "source": [
    "# Lab 3, part II: solving problems with a subset of columns\n",
    "\n",
    "This lab focuses on solving an LP considering a subset of its variables. This is useful when the number of variables is very large as one can still solve the LP to optimality.\n",
    "\n",
    "Consider again the product mix problem: a factory has recipes for producing $n=40$ types of perfume by mixing 5 ingredients. Denote as $P_0=\\{0,1,2,\\ldots{},39\\}$ the set of 40 perfumes, and as $I=\\{0,1,2,3,4\\}$ the set of ingredients. The problem is defined as in part I, with the exception that $A$ and $c$ have more elements. Their value is specified directly in the code snippet after this cell. The first four elements of $c$ and the first four columns of $A$ are the same as in the previous exercise. The availability is the same as in the previous part:\n",
    "\n",
    "|Ingredient|0|1|2|3|4|\n",
    "|----------|-|-|-|-|-|\n",
    "|Availability|30|400|90|450|70|\n",
    "\n",
    "The following are the tasks for this exercise:\n",
    "\n",
    "1. Solve the problem with the first four perfumes only, i.e., create and solve the problem with the same data as that of part I;\n",
    "2. Suppose now you could add __one__ perfume to the first four; which one should be added to increase (even by a tiny amount) the objective function?\n",
    "3. Repeat task 2 after adding the chosen column; which one should be the sixth variable?\n",
    "4. Solve the problem with __all__ $n$ columns and report the new revenue; before solving it, can you predict if it will be larger or smaller? Why?"
   ]
  },
  {
   "cell_type": "code",
   "execution_count": null,
   "metadata": {},
   "outputs": [],
   "source": [
    "# When using Colab, make sure you run this instruction beforehand\n",
    "!pip install --upgrade cffi==1.15.0\n",
    "import importlib\n",
    "import cffi\n",
    "importlib.reload(cffi)\n",
    "!pip install mip"
   ]
  },
  {
   "cell_type": "code",
   "execution_count": null,
   "metadata": {},
   "outputs": [],
   "source": [
    "import numpy as np  # Numpy is handy for vector&matrix operations\n",
    "\n",
    "A = \\\n",
    "np.array([[0.01, 0.05, 0.07, 0.04, 0.07, 0.17, 0.08, 0.14, 0.03, 0.01, 0.03, 0.03, 0.06, 0.06, 0.02, 0.05, 0.04, 0.01, 0.03, 0.04, 0.01, 0.02, 0.01, 0.02, 0.04, 0.02, 0.02, 0.11, 0.03, 0.02, 0.02, 0.03, 0.04, 0.06, 0.05, 0.04, 0.01, 0.05, 0.06, 0.04],\n",
    "          [0.34, 0.45, 0.36, 0.51, 0.41, 0.15, 0.68, 0.39, 0.65, 0.27, 0.25, 0.11, 0.03, 0.69, 0.5 , 0.04, 0.33, 0.69, 0.32, 0.46, 0.53, 0.03, 0.39, 0.29, 0.68, 0.26, 0.53, 0.14, 0.3 , 0.76, 0.49, 0.49, 0.46, 0.15, 0.43, 0.27, 0.58, 0.53, 0.23, 0.63],\n",
    "          [0.08, 0.06, 0.12, 0.12, 0.14, 0.04, 0.12, 0.05, 0.14, 0.14, 0.11, 0.15, 0.11, 0.19, 0.02, 0.17, 0.1 , 0.04, 0.1 , 0.04, 0.13, 0.13, 0.07, 0.01, 0.14, 0.14, 0.11, 0.2 , 0.12, 0.07, 0.14, 0.11, 0.09, 0.19, 0.15, 0.05, 0.24, 0.06, 0.16, 0.15],\n",
    "          [0.55, 0.35, 0.29, 0.32, 0.36, 0.49, 0.12, 0.09, 0.12, 0.51, 0.56, 0.59, 0.79, 0.06, 0.33, 0.68, 0.48, 0.26, 0.55, 0.4 , 0.31, 0.75, 0.53, 0.66, 0.1 , 0.56, 0.31, 0.34, 0.55, 0.05, 0.33, 0.33, 0.41, 0.58, 0.31, 0.64, 0.01, 0.3 , 0.51, 0.08],\n",
    "          [0.02, 0.09, 0.16, 0.01, 0.02, 0.15, 0.  , 0.33, 0.06, 0.07, 0.05, 0.12, 0.01, 0.  , 0.13, 0.06, 0.05, 0.  , 0.  , 0.06, 0.02, 0.07, 0.  , 0.02, 0.04, 0.02, 0.03, 0.21, 0.  , 0.1 , 0.02, 0.04, 0.  , 0.02, 0.06, 0.  , 0.16, 0.06, 0.04, 0.1 ]])\n",
    "\n",
    "b = np.array([30, 400, 90, 450, 70])\n",
    "\n",
    "c = np.array([300, 255, 260, 390, 243, 93, 310, 117, 286, 267,\n",
    "              250, 276, 324, 262, 216, 310, 285, 266, 280, 190,\n",
    "              241, 301, 271, 252, 326, 279, 310, 278, 250, 248,\n",
    "              319, 281, 287, 279, 299, 274, 305, 209, 250, 296])\n",
    "\n",
    "# Verify shape of all data\n",
    "print(f\"A has size {A.shape}, b has size {b.shape}, c has size {c.shape}\")"
   ]
  },
  {
   "cell_type": "markdown",
   "metadata": {},
   "source": [
    "## Solution\n",
    "\n",
    "Task 1: __Solve the problem with the first four perfumes only, i.e., create a problem with the same data as that of part I.__\n",
    "\n",
    "We have the problem from part I, let's repeat it here:\n",
    "\n",
    "$$\n",
    "\\begin{array}{lrrrrrr}\n",
    "\\max          & 300 x_0 &+  255 x_1 &+  260 x_2 &+  390 x_3\\\\\n",
    "\\textrm{s.t.} &0.01 x_0 &+ 0.05 x_1 &+ 0.07 x_2 &+ 0.04 x_3 &\\le & 30\\\\\n",
    "              &0.34 x_0 &+ 0.45 x_1 &+ 0.36 x_2 &+ 0.51 x_3 &\\le &400\\\\\n",
    "              &0.08 x_0 &+ 0.06 x_1 &+ 0.12 x_2 &+ 0.12 x_3 &\\le & 90\\\\\n",
    "              &0.55 x_0 &+ 0.35 x_1 &+ 0.29 x_2 &+ 0.32 x_3 &\\le &450\\\\\n",
    "              &0.02 x_0 &+ 0.09 x_1 &+ 0.16 x_2 &+ 0.01 x_3 &\\le & 70\\\\\n",
    "              &x_0, &x_1, &x_2, &x_3 &\\ge& 0,\n",
    "\\end{array}\n",
    "$$\n",
    "\n",
    "The LPs we'll solve in this part may have different subsets of columns, so we define a function that is similar to part I, but it also takes a subset of indices as an extra argument."
   ]
  },
  {
   "cell_type": "code",
   "execution_count": null,
   "metadata": {},
   "outputs": [],
   "source": [
    "import mip\n",
    "\n",
    "I = range(5)  # set of ingredients\n",
    "\n",
    "def solve_productmix_indices(A, b, c, indices):\n",
    "    \"\"\"\n",
    "    Solve problem max{cx: Ax <= b, x >= 0} but only consider columns\n",
    "    as indicated by the list \"indices\"\n",
    "    \"\"\"\n",
    "    m = mip.Model()\n",
    "\n",
    "    P = # create list of perfumes filtered by \"indices\"\n",
    "\n",
    "    x = # (TODO)\n",
    "\n",
    "    # One constraint per ingredient (TODO)\n",
    "    for i in I:\n",
    "        m.add_constr(...)\n",
    "\n",
    "    # Objective function is a weighted sum of all x (TODO)\n",
    "    m.objective = mip.maximize(...)\n",
    "    # Solve\n",
    "    m.optimize()\n",
    "\n",
    "    # (TODO) Return a tuple containing model, solution variables, and objective value\n",
    "    return (m, [], m.objective_value)\n",
    "\n",
    "# In order to solve the same problem as part I, we pass the first\n",
    "# four indices as the last argument to the new function\n",
    "_, solution, objective = solve_productmix_indices(A, b, c, [0,1,2,3])\n",
    "\n",
    "print(\"Solution:\", solution)\n",
    "print(\"Objective: {0:10.2f}\".format(objective))"
   ]
  },
  {
   "cell_type": "markdown",
   "metadata": {},
   "source": [
    "Task 2: __Suppose now you could add _one_ perfume to the first four; which one should be added to increase the objective function?__\n",
    "\n",
    "An idea could be to run a loop where we solve the above problem with indices `[0,1,2,3,p]` for every $p \\in {4,...,39}$, and then report the increase in objective function, if any. Can there be a decrease? Will any new perfume trigger an increase in $x_2$, i.e., `solution[2]`?"
   ]
  },
  {
   "cell_type": "code",
   "execution_count": null,
   "metadata": {},
   "outputs": [],
   "source": [
    "for p in range(4,40):  # uses all p from 4 to 39\n",
    "    _, sol2, obj2 = solve_productmix_indices() # (TODO) solve problem with indices 0,1,2,3,p\n",
    "    rndsol2 = [round(s, ndigits=1) for s in sol2]\n",
    "    print(f\"Added perfume {p:2d} --> {obj2:10.2f} (diff: {obj2 - objective:8.2f}). Sol: {rndsol2}\")"
   ]
  },
  {
   "cell_type": "markdown",
   "metadata": {},
   "source": [
    "There are four perfumes that are worth introducing in order to increase revenue. A few remarks:\n",
    "\n",
    "* When they are produced, perfume 1 is no longer produced. Why? And how much should we increase its cost `c[1]` in order to resume its production (at the expense of another perfume)?\n",
    "* Perfume 3 always increases production with the introduction of a new perfume with nonzero production.\n",
    "* This is not true for perfume 0: sometimes its production increases, sometimes it decreases.\n",
    "\n",
    "Again, solving 36 LPs to find out the difference was not necessary. From your course lectures, you can immediately get this information using the dual variables for each of the resource constraints. This could be done by computing the reduced costs of all variables that were not introduced yet: consider perfume $p\\in 0,\\ldots{},39$. If $\\eta_i$ is the dual variable of constraint $i$, the dual constraint for each primal variable $x_p$ is\n",
    "$\\sum_{i\\in I} a_{ip} \\eta_i \\ge c_p$, or\n",
    "\n",
    "$$\n",
    "    a_{0p} \\eta_0 + a_{1p} \\eta_1 + a_{2p} \\eta_2 + a_{3p} \\eta_3 + a_{4p} \\eta_4 \\ge c_p\n",
    "$$\n",
    "\n",
    "After solving the initial problem and obtaining optimal values $x^*_0, x^*_1, x^*_2, x^*_3$, we also obtain values $\\eta^*_0,\\eta^*_1,\\ldots, \\eta^*_4$ for the dual variables. If we consider a perfume $p$ that has not been added to the problem yet, we can use the dual solution to compute\n",
    "\n",
    "$$\n",
    "rc_p = c_p - (a_{0p} \\eta^*_0 + a_{1p} \\eta^*_1 + a_{2p} \\eta^*_2 + a_{3p} \\eta^*_3 + a_{4p} \\eta^*_4)\n",
    "$$\n",
    "\n",
    "This value is the reduced cost of perfume $p$, whether or not the perfume was considered in the problem. If $rc_p \\ge 0$, the perfume does not need to be added to the mix, otherwise it will be added. This allows us to determine in advance what perfumes can potentially increase the revenue. Let's compute these reduced costs in a loop:"
   ]
  },
  {
   "cell_type": "code",
   "execution_count": null,
   "metadata": {},
   "outputs": [],
   "source": [
    "# Solve the problem again from scratch, just to make sure \n",
    "# we didn't lose solution/objective on the way.\n",
    "m, solution, objective = solve_productmix_indices (A, b, c, [0, 1, 2, 3])\n",
    "\n",
    "dual = [con.pi for con in m.constrs]\n",
    "\n",
    "for p in range(4, 40):  # For ALL perfumes\n",
    "\n",
    "    # compute reduced cost of all variables, including\n",
    "    # those not yet in the problem (TODO)\n",
    "    rc = \n",
    "    \n",
    "    print(f\"Reduced cost for {p:2d} = {rc:9.2f}\", end='')\n",
    "    if rc > 0:\n",
    "        print(\" <======\")\n",
    "    else:\n",
    "        print(\"\")"
   ]
  },
  {
   "cell_type": "markdown",
   "metadata": {},
   "source": [
    "The reduced costs are __not__, in general, proportional to the change in revenue: perfume 35 has a smaller reduced cost than 23 but a higher revenue change."
   ]
  },
  {
   "cell_type": "markdown",
   "metadata": {},
   "source": [
    "Task 3: __Repeat step 2 after adding the chosen column; which one should be the sixth variable?__"
   ]
  },
  {
   "cell_type": "markdown",
   "metadata": {},
   "source": [
    "Let's choose perfume 14 and re-run the previous cell to determine if there are perfumes to be added. Obviously after solving the problem the reduced cost for perfume 14 will be nonnegative. But which one: zero or positive?"
   ]
  },
  {
   "cell_type": "code",
   "execution_count": null,
   "metadata": {},
   "outputs": [],
   "source": [
    "# Replace starting solution by solving a problem with perfume 14 added (TODO)\n",
    "\n",
    "print(f\"New objective: {objective}; solution = {solution}\")\n",
    "\n",
    "dual = [c.pi for c in m.constrs]\n",
    "\n",
    "for p in range(4, 40):  # For ALL perfumes\n",
    "    # Find reduced cost by same computation above (TODO)\n",
    "    rc = ...\n",
    "    print(f\"Reduced cost for {p:2d} = {rc:9.2f}\", end='')\n",
    "    if rc > 0:\n",
    "        print(\" <======\")\n",
    "    else:\n",
    "        print(\"\")"
   ]
  },
  {
   "cell_type": "markdown",
   "metadata": {},
   "source": [
    "Task 4: __Solve the problem with all $n$ columns and report the new revenue; before solving it, can you predict if it will be larger or smaller? Why?__"
   ]
  },
  {
   "cell_type": "code",
   "execution_count": null,
   "metadata": {},
   "outputs": [],
   "source": [
    "# Solve problem with all columns this time (TODO)\n",
    "\n",
    "print(f\"With all perfumes, objective: {objective}\")\n",
    "print(f\"Solution:\")\n",
    "for p in range(40):\n",
    "    if solution[p] > 0:\n",
    "        print(f\"{p:3d}: {solution[p]:10.2f}\")"
   ]
  },
  {
   "cell_type": "markdown",
   "metadata": {},
   "source": [
    "Can we automate this?"
   ]
  }
 ],
 "metadata": {
  "kernelspec": {
   "display_name": "Python 3.10.8 64-bit",
   "language": "python",
   "name": "python3"
  },
  "language_info": {
   "codemirror_mode": {
    "name": "ipython",
    "version": 3
   },
   "file_extension": ".py",
   "mimetype": "text/x-python",
   "name": "python",
   "nbconvert_exporter": "python",
   "pygments_lexer": "ipython3",
   "version": "3.10.8"
  },
  "vscode": {
   "interpreter": {
    "hash": "e7370f93d1d0cde622a1f8e1c04877d8463912d04d973331ad4851f04de6915a"
   }
  }
 },
 "nbformat": 4,
 "nbformat_minor": 4
}
