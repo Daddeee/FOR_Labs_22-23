{
 "cells": [
  {
   "cell_type": "markdown",
   "metadata": {},
   "source": [
    "## First steps\n",
    "\n",
    "In this first notebook, we'll take the first steps with Python and check the potential of the notebook. I'll alternate boxes (or \"cells\") of text and blank cell examples where you can write code and test it. A cell can be used as text (you can also add formulas like $\\int_\\sqrt{2}^\\pi x\\sin\\left(\\frac{1}{x}\\right)dx$ in $\\LaTeX$) by choosing \"Markdown\" from the drop-down menu at the top. To execute a cell just press shift + enter. This also applies to specially formatted text cells, like this one. To change it, just double click inside.\n",
    "\n",
    "The first Python example is a small program to assign two numbers to two variables `p1` and` p2` and then print their sum. \n",
    "\n",
    "```\n",
    "p1 = 987654321\n",
    "p2 = 123456789\n",
    "print(p1 + p2)\n",
    "```\n",
    "\n",
    "Try typing the above lines in the box below and then press shift + enter, the result should be\n",
    "\n",
    "`1111111110`"
   ]
  },
  {
   "cell_type": "code",
   "execution_count": null,
   "metadata": {},
   "outputs": [],
   "source": []
  },
  {
   "cell_type": "markdown",
   "metadata": {},
   "source": [
    "Strings can be formatted via the `print` function. For printing \"The sum of 987654321 and 123456789 is 1111111110\", write\n",
    "\n",
    "```\n",
    "print(f\"The sum of {p1} and {p2} is {p1 + p2}\")\n",
    "```\n",
    "\n",
    "Note the `f` before the string (`f` stands for \"formatting\") and the objects to be printed enclosed in braces. Try printing the product of `p1` and `p2` below."
   ]
  },
  {
   "cell_type": "code",
   "execution_count": null,
   "metadata": {},
   "outputs": [],
   "source": []
  },
  {
   "cell_type": "markdown",
   "metadata": {},
   "source": [
    "## Looking back at the prime number checker\n",
    "\n",
    "We now proceed to an example to introduce control flow. Suppose we want to determine if a given number n is prime, but unlike the previous notebook we don't store its factors. The pseudocode is simple: we need to check, for all integer numbers k from 2 to $\\lfloor\\sqrt{n}\\rfloor$ (why not more?), whether $\\frac{n}{k}$ is integer, i.e., whether the division admits a zero remainder.\n",
    "\n",
    "```\n",
    "Algorithm: PrimeNumber\n",
    "Input: n\n",
    "Output: 1 if n is prime, 0 otherwise\n",
    "k = 2\n",
    "while k <= sqrt(n):\n",
    "  if n is divisible by k\n",
    "    output 0\n",
    "  increase k\n",
    "output 1\n",
    "```\n",
    "\n",
    "The Python implementation is also very simple. To encapsulate the algorithm, we define it as a function `PrimeNumber` that takes one number as an input and returns `True` if the number is prime, `False` otherwise.\n",
    "Note that text between `#` and the end of the line is ignored and can be used for comments."
   ]
  },
  {
   "cell_type": "code",
   "execution_count": null,
   "metadata": {},
   "outputs": [],
   "source": [
    "import math\n",
    "def PrimeNumber(n):      # Define function PrimeNumber with a single argument n\n",
    "    for k in range(2, math.floor(math.sqrt(n)) + 1): \n",
    "        if n % k == 0:   # The \"%\" symbol returns the remainder of the \n",
    "                         # division n/k, i.e.,\n",
    "                         # if n = 17 and k = 6 then n % k = 5.\n",
    "            return False\n",
    "    return True\n",
    "\n",
    "    \n",
    "x = 42\n",
    "if PrimeNumber(x):\n",
    "    print(f\"{x} is prime\")\n",
    "else:\n",
    "    print(f\"{x} is not prime\")\n"
   ]
  },
  {
   "cell_type": "markdown",
   "metadata": {},
   "source": [
    "Now use the definition of `PrimeNumber` above to print all prime numbers from 2 to 1000. All you have to do is run a loop where you check the call to `PrimeNumber` before printing the number."
   ]
  },
  {
   "cell_type": "code",
   "execution_count": null,
   "metadata": {},
   "outputs": [],
   "source": []
  },
  {
   "cell_type": "markdown",
   "metadata": {},
   "source": [
    "A few remarks about the `range` function:\n",
    "* range(10) gives all numbers from 0 to 9;\n",
    "* range(3,10) gives all numbers from 3 to 9;\n",
    "* range(3,100,7) gives all numbers from 3 to 100 in steps of 7, i.e.,\n",
    "3, 10, 17, 24, 31, 38, 45, 52, 59, 66, 73, 80, 87, 94.\n",
    "\n",
    "Therefore, `range(n)` actually doesn't run through $n$ itself, as it stops immediately before. For the loop from 2 to $\\sqrt{n}$ (or rather, since we need an integer value, to $\\lfloor\\sqrt{n}\\rfloor$) we need to increase the limit by one to make sure we run through $\\lfloor\\sqrt{n}\\rfloor$, hence the `math.floor(math.sqrt(n))+1`."
   ]
  },
  {
   "cell_type": "markdown",
   "metadata": {},
   "source": [
    "Did you notice?\n",
    "\n",
    "* No semicolon (\";\") at the end of an instruction, unlike C, C++, or Java;\n",
    "* No keyword or punctuation to mark the end of a block. In Python, __indentation__ is everything: consecutive lines at the same indentation level are considered a block, ending an indentation is equivalent to ending a for loop, for instance. As an example, the following two snippets do different things:\n",
    "\n",
    "```\n",
    "for i in range(3):\n",
    "   print(i)\n",
    "   print(42)\n",
    "```\n",
    "\n",
    "```\n",
    "for i in range(3):\n",
    "   print(i)\n",
    "print(42)\n",
    "```\n",
    "\n",
    "The output of the first snippet will be \"0 42 1 42 2 42\" (each number on a separate line), while for the second it will be \"0 1 2 42\". This feature of Python is unique and you should pay attention every time you create a new line."
   ]
  },
  {
   "cell_type": "markdown",
   "metadata": {},
   "source": [
    "## Lists\n",
    "\n",
    "Lists are a simple data structure that stores data of possibly different types. A list containing 1, 2, and \"hey!\" can be declared like this:\n",
    "\n",
    "```\n",
    "l = [1,2,\"hey!\"]\n",
    "```\n",
    "\n",
    "Lists can be concatenated with `+`:\n",
    "\n",
    "```\n",
    "l1 = [1,2,3]\n",
    "l2 = [4,5,6]\n",
    "print(l1 + l2)\n",
    "```\n",
    "\n",
    "A list is represented with its elements separated by a comma and enclosed between square brackets. It can be initialized as `[]` and then amended one element at a time with `amend`. The following code\n",
    "\n",
    "```\n",
    "l = []\n",
    "for i in range(50, 55):\n",
    "    l.append(i)\n",
    "\n",
    "print(l)\n",
    "```\n",
    "\n",
    "will result in the list `[50,51,52,53,54]`. A list can be referenced just like in many other languages with square brackets, but __note__ that, in Python, indices begin at zero: so the first element of the above list, i.e. 50, is `l[0]`. Negative indices are used to address a list from its other end: `l[-1]` is 54, `l[-2]` is 53, and so on.\n",
    "\n",
    "The `in` predicate in Python can be used to check if an element is in a list. For instance, if a list is defined as `l = [2, 5, 88, 90909]`, then `2 in l` returns `True`, while `44 in l` returns `False`. Guess what the following snippet does:"
   ]
  },
  {
   "cell_type": "code",
   "execution_count": null,
   "metadata": {},
   "outputs": [],
   "source": [
    "l1 = ['Paris', 'Toulouse', 'Milano', 'Torino', 'Roma', 'Munich', 'Frankfurt', 'Edinburgh']\n",
    "l2 = ['Madrid', 'Paris', 'Berlin', 'Roma', 'Bruxelles', 'Bern', 'Wien']\n",
    "\n",
    "for city1 in l1:\n",
    "    if city1 in l2:\n",
    "        print(city1)"
   ]
  },
  {
   "cell_type": "markdown",
   "metadata": {},
   "source": [
    "## List comprehensions\n",
    "\n",
    "List comprehensions are a powerful tool in Python to create a list by setting a condition that defines it. For instance, to define a set in maths one can say $S = \\{4i^3: i=3,4,\\ldots{},10\\}$. This is a compact way to define the set $\\{108, 256, 500, 864, 1372, 2048, 2916, 4000\\}$. In Python, this can be done in a single line:"
   ]
  },
  {
   "cell_type": "code",
   "execution_count": null,
   "metadata": {},
   "outputs": [],
   "source": [
    "S = [4*i**3 for i in range(3,11)]\n",
    "print(S)"
   ]
  },
  {
   "cell_type": "markdown",
   "metadata": {},
   "source": [
    "A few remarks:\n",
    "* `S` here is a list, not a set, so each element is associated with its position in the list. More important, the index is __not__ related to the value of `i` that generated that number:  `S[0] = 108`, `S[7] = 4000`, and `S[3] = 864`.\n",
    "* As done before, the `range(3,11)` is necessary for finishing at 10.\n",
    "* The power operator is `**`, i.e. `3**4` is 81.\n",
    "\n",
    "Exercise: challenge Python to compute $2^{1000}$."
   ]
  },
  {
   "cell_type": "code",
   "execution_count": null,
   "metadata": {},
   "outputs": [],
   "source": []
  },
  {
   "cell_type": "markdown",
   "metadata": {},
   "source": [
    "List comprehensions can also be used with conditional predicates. In mathematics, we can define a set $S_1=\\{2,\\ldots{}, 100\\}$ and then define a set $S_2$ with all prime numbers from $S_1$. In Python we can do it as follows: "
   ]
  },
  {
   "cell_type": "code",
   "execution_count": null,
   "metadata": {},
   "outputs": [],
   "source": [
    "S1 = range(2,101)\n",
    "S2 = [i for i in S1 if PrimeNumber(i)]\n",
    "print(P)"
   ]
  },
  {
   "cell_type": "markdown",
   "metadata": {},
   "source": [
    "Here `P` is defined as the list of all `i` in `N` such that `PrimeNumber(i)` returns `True`.\n",
    "\n",
    "In the next notebook we'll learn Python's dictionaries, which will be very useful in most labs.\n",
    "\n",
    "As a homework, write a function to compute the first 30 Fibonacci numbers. The Fibonacci sequence consists of numbers $(f_1, f_2, f_3, \\ldots{})$ such that $f_1 = f_2 = 1$ and $f_k = f_{k-1} + f_{k-2}$."
   ]
  },
  {
   "cell_type": "code",
   "execution_count": null,
   "metadata": {},
   "outputs": [],
   "source": []
  }
 ],
 "metadata": {
  "kernelspec": {
   "display_name": "Python 3 (ipykernel)",
   "language": "python",
   "name": "python3"
  },
  "language_info": {
   "codemirror_mode": {
    "name": "ipython",
    "version": 3
   },
   "file_extension": ".py",
   "mimetype": "text/x-python",
   "name": "python",
   "nbconvert_exporter": "python",
   "pygments_lexer": "ipython3",
   "version": "3.10.4"
  }
 },
 "nbformat": 4,
 "nbformat_minor": 4
}
