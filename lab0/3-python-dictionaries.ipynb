{
 "cells": [
  {
   "cell_type": "markdown",
   "metadata": {},
   "source": [
    "## Dictionaries in Python\n",
    "\n",
    "A Python dictionary associates each of several objects (string, number, etc.) with another object. Dictionaries are an effective way to represent a correspondence between two sets. An example of a dictionary is as follows:"
   ]
  },
  {
   "cell_type": "code",
   "execution_count": null,
   "metadata": {},
   "outputs": [],
   "source": [
    "age = {\"John\": 23, \"Aysha\": 15, \"Malick\": 44}"
   ]
  },
  {
   "cell_type": "markdown",
   "metadata": {},
   "source": [
    "The syntax is quite intuitive: enclosed in braces is a list of comma-separated pairs (key, value).  A dictionary can be initialized as empty with `d = {}` and amended key/value pairs. In the `age` dictionary, \"Aysha\" is a key and 15 is its associated value. We can access John's age by just typing `age[\"John\"]`. New key/value pairs can be added with `age[\"Carlos\"] = 22` and existing keys can take a new value, e.g. `age[\"Malick\"] = 32`.\n",
    "\n",
    "The `keys()` function returns a __list__ of all keys in a dictionary, while `values()` returns a list of all of its values. The function `items()` returns all key/value pairs in a dictionary. All of these functions provide us a way to iterate over all elements."
   ]
  },
  {
   "cell_type": "code",
   "execution_count": null,
   "metadata": {},
   "outputs": [],
   "source": [
    "print(age[\"John\"])\n",
    "\n",
    "age['Mohit'] = 40\n",
    "age['John'] = 25\n",
    "\n",
    "print(f\"Keys of the dictionary: {age.keys()}\")\n",
    "print(f\"Values: {age.values()}\")\n",
    "print(f\"Key/value pairs: {age.items()}\")\n",
    "\n",
    "for i in age.keys():\n",
    "    print (f\"{i} is {age[i]} years old\")"
   ]
  },
  {
   "cell_type": "markdown",
   "metadata": {},
   "source": [
    "Python dictionaries are especially useful for us: we will need them to associate elements of one or more sets defining an optimization problem with a variable or a constraint. They are one of Python's most efficient data structures and can be effectively used to replace lists when the index set is not a list of consecutive numbers."
   ]
  },
  {
   "cell_type": "code",
   "execution_count": null,
   "metadata": {},
   "outputs": [],
   "source": [
    "population = {\n",
    "\"Austria\": 8901,\n",
    "\"Belgium\": 11493,\n",
    "\"Denmark\": 5823,\n",
    "\"Finland\": 5536,\n",
    "\"France\":  67287,\n",
    "\"Germany\": 83191,\n",
    "\"Italy\":   59258,\n",
    "\"Netherlands\": 17425,\n",
    "\"Norway\": 5368}\n",
    "\n",
    "n_names = [country for country in population.keys() if 'n' in country]\n",
    "n_pop = sum(population[country] for country in n_names)  # sum() computes the sum of all arguments (duh!)\n",
    "\n",
    "print(f\"Countries with an 'n' in their name: {n_names}\")\n",
    "print(f\"Total population in these countries: {n_pop/1000} million\")"
   ]
  },
  {
   "cell_type": "markdown",
   "metadata": {},
   "source": [
    "__Exercise__: print the _average_ population of all countries whose name ends with 'y', then print the _maximum_ population among all countries whose name has length 7. All you need to know is:\n",
    "* The length of a string `s` is given by `len(s)`;\n",
    "* The last character of a string `s` is `s[-1]`;\n",
    "* The maximum element of a list `l` is given by `max(l)`."
   ]
  },
  {
   "cell_type": "code",
   "execution_count": null,
   "metadata": {},
   "outputs": [],
   "source": []
  },
  {
   "cell_type": "markdown",
   "metadata": {},
   "source": [
    "## Tuples in Python\n",
    "\n",
    "Before we continue with dictionaries, let's talk about another useful Python data type: tuples. They are __fixed__ sequences of objects, unlike lists to which we can add, delete, or change one or more elements. A tuple is defined as `t = (a1, a2, a3, ...)` and can have as many elements as we want, but once created it can't be changed. We can access its elements one by one with `t[0]`, `t[1]`, etc.\n",
    "\n"
   ]
  },
  {
   "cell_type": "code",
   "execution_count": null,
   "metadata": {},
   "outputs": [],
   "source": [
    "a = [1,2,3,4]\n",
    "print(a[2])\n",
    "a[2] = 8\n",
    "print(a)"
   ]
  },
  {
   "cell_type": "code",
   "execution_count": null,
   "metadata": {},
   "outputs": [],
   "source": [
    "a = (1,2,3,4)  # this is a tuple, not a list\n",
    "print(a[2])\n",
    "a[2] = 8  # This will result in an error\n",
    "print(a)"
   ]
  },
  {
   "cell_type": "markdown",
   "metadata": {},
   "source": [
    "## Back to dictionaries\n",
    "\n",
    "Similar to lists, dictionaries can be created implicitly with a condition, rather than enumerating all key/value pairs. "
   ]
  },
  {
   "cell_type": "code",
   "execution_count": null,
   "metadata": {},
   "outputs": [],
   "source": [
    "names = [\"里見\", \"Michel\", \"João\", \"मोहित\"]\n",
    "namelength = {i: len(i) for i in names}\n",
    "print(namelength)"
   ]
  },
  {
   "cell_type": "markdown",
   "metadata": {},
   "source": [
    "A dictionary can have tuples as its keys, but can't have lists (this is why it's useful to have tuples). For example, the dictionary `{(1,2): 12, (3,6): 2, (6,4): 4}` associated tuples with numbers.\n",
    "\n",
    "Here we create one that associates a tuple of $(x,y)$ coordinates with its corresponding tuple $(\\rho,\\theta)$ of _polar_ coordinates: $\\rho = \\sqrt{x^2 + y^2}$, $\\theta = \\arctan{y/x}$."
   ]
  },
  {
   "cell_type": "code",
   "execution_count": null,
   "metadata": {},
   "outputs": [],
   "source": [
    "import math\n",
    "\n",
    "S1 = [i for i in range(1, 10) if i %  3 == 0 or i %  7 == 0]  # all numbers divisible by  3 or  7 (or both)\n",
    "S2 = [i for i in range(1, 50) if i % 11 == 0 or i % 17 == 0]  # all numbers divisible by 11 or 17 (or both)\n",
    "\n",
    "polar = {(i,j): (math.sqrt(i**2 + j**2), math.atan(j/i)) for i in S1 for j in S2}\n",
    "for i in polar.keys():\n",
    "    print(f\"Polar coordinates for {i}: {polar[i]}\")"
   ]
  },
  {
   "cell_type": "markdown",
   "metadata": {},
   "source": [
    "__Exercise__:\n",
    "* Complete the function below that, given a number, returns a list of all of its prime factors;\n",
    "* Create a dictionary that associates every number from 2 to 100 to the list of its prime factors using the function `prime_factors` below; for instance, with 57 we should associate `[3, 19]`;\n",
    "* Create a dictionary that associates, to every number $k$ from 2 to 50, the number of positive numbers below 100 that $k$ is a prime factor of; for instance, with 7 we should associate 14 because 7 is a prime factor of 14 positive numbers below 100. 7, 14, 21, ..., 70, 77, 84, 91, and 98.\n"
   ]
  },
  {
   "cell_type": "code",
   "execution_count": null,
   "metadata": {},
   "outputs": [],
   "source": [
    "import math\n",
    "\n",
    "def prime_factors(n):\n",
    "    factors = []\n",
    "    decomp = n\n",
    "    i = 2\n",
    "    while i <= decomp and i <= n:\n",
    "        while decomp % i == 0:\n",
    "            decomp = decomp / i\n",
    "            if i not in factors:\n",
    "                # TODO: add instruction that appends i to factor\n",
    "        i += 1\n",
    "    return factors\n"
   ]
  },
  {
   "cell_type": "code",
   "execution_count": null,
   "metadata": {},
   "outputs": [],
   "source": []
  },
  {
   "cell_type": "markdown",
   "metadata": {},
   "source": [
    "## Notebooks and evaluation order\n",
    "\n",
    "When Python cells in a notebook are evaluated, the result is kept for use later. So when cell with the `prime_factors` function above is evaluated with shift + enter, the function is known in every cell that is executed after it, and the sets `S1` and `S2` in the cell further above are remembered for the whole notebook lifetime.\n",
    "\n",
    "Equivalently, if we haven't evaluated a cell containing objects we use in another cell, we can't evaluate the latter or an error will be thrown.\n",
    "\n",
    "If we evaluate a cell two or more times, this will have the same effect as running the same piece of code as many times, so if a cell contains an instruction `l.append(3)` and it is run four times, the list will have the \"3\" appended four times.\n",
    "\n",
    "If you want to reset execution and start evaluation of any cell from scratch, you can select one of the \"Restart\" options in the \"Kernel\" menu. This __won't__ delete any text or code in the cells, but it will get rid of all the generated output, for instance all the output from `print` instructions.\n",
    "\n",
    "If you wrote a loop that doesn't seem it's going to end soon, you can stop execution with the black square icon at the top."
   ]
  }
 ],
 "metadata": {
  "kernelspec": {
   "display_name": "Python 3 (ipykernel)",
   "language": "python",
   "name": "python3"
  },
  "language_info": {
   "codemirror_mode": {
    "name": "ipython",
    "version": 3
   },
   "file_extension": ".py",
   "mimetype": "text/x-python",
   "name": "python",
   "nbconvert_exporter": "python",
   "pygments_lexer": "ipython3",
   "version": "3.10.4"
  }
 },
 "nbformat": 4,
 "nbformat_minor": 4
}
