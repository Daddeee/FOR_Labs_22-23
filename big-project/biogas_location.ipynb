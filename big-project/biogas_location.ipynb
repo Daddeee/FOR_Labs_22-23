{
  "cells": [
    {
      "cell_type": "markdown",
      "metadata": {
        "id": "0is6zsDH2sUE"
      },
      "source": [
        "# Big project\n",
        "\n",
        "## Submission\n",
        "\n",
        "Submit solutions to https://forms.office.com/e/WexY7YraJb.\n",
        "\n",
        "1.   Upload code in .ipynb file\n",
        "2.   Upload a csv containing three columns: \n",
        "*    \"ID\": the ID of the instance (1, 2, 3, ...)\n",
        "*    \"OBJ\": the objective function value obtained\n",
        "*    \"TIME\": the execution time in seconds.\n",
        "\n",
        "## Evaluation\n",
        "\n",
        "1.   Gap w.r.t. optimal solutions\n",
        "2.   Runtimes. Must be under 10 minutes for every instance. Execution times will be re-examined on a random basis.\n",
        "\n",
        "## Deadline\n",
        "\n",
        "12/01/2022 23:59 CET\n",
        "\n",
        "## Other\n",
        "\n",
        "*   4 lab points just if you deliver something that works\n",
        "*   10 points based on the quality of method\n",
        "*   NO pre-coded libraries, \n",
        "*   NO genetic algorithms \n",
        "*   NO neural networks\n",
        "*   groups of max 3 students\n",
        "\n",
        "\n"
      ]
    },
    {
      "cell_type": "markdown",
      "metadata": {
        "id": "UdlvHj_vueO5"
      },
      "source": [
        "## Biogas plants location\n",
        "\n",
        "An association of $n$ farmers wants to open $p$ plants to produce energy from biogas. \n",
        "Each plant will be opened at a farm of a member of the association and will be powered with corn chopping purchased from the farm itself or from other neighboring farms.\n",
        "\n",
        "Each farm $i$ can provide at most $c_i$ tons of corn chopping, with a percentage of dry matter $a_i$. As you may know, dry matter is the key component of corn chopping used for biogas production. In order to maintain the quality of produced energy, each plant must burn a mixture of corn chopping with a percentage of dry matter between $k_{min}$ and $k_{max}$. \n",
        "\n",
        "At most one plant can be located in each farm, and every farm can sell its corn chopping to one and only one plant.\n",
        "\n",
        "Each farm $i$ is located at coordinates $x_i$ and $y_i$, representing respectively its latitude and longitude, and the cost of moving corn chopping from a farm $i$ to a farm $j$ is proportional to the euclidean distance between the two farms (it does not depend on the actual quantity moved, since the trucks used for this transportations are sufficiently big). \n",
        "\n",
        "Under such conditions, every plant produces $Q$ kWh of energy per ton of corn chopping burned. The energy produced by each plant will be fed into the national electricity system, at a unitary price of $b$ (€/kWh). Moreover, due to state regulations, each plant must not produce more than $M$ kWh of energy.\n",
        "\n",
        "You must locate $p$ plants among the available farms and assign the farms that will supply each plant, with the goal of maximizing the total revenues of the association."
      ]
    },
    {
      "cell_type": "markdown",
      "metadata": {
        "id": "hnxGk0C12oFZ"
      },
      "source": [
        "### Sets\n",
        "*   $I$ = set of farms\n",
        "\n",
        "### Parameters\n",
        "*   $n$ = number of farms   \n",
        "*   $p$ = number of plants to locate\n",
        "*   $b$ = revenue per unit of energy (€/kWh)\n",
        "*   $M$ = max energy production (kWh)\n",
        "*   $Q$ = energy produced by a ton of corn chopping (kWh/t)\n",
        "*   $k_{min} (k_{max})$ = min (max) percentage of dry matter for fermentation\n",
        "*   $a_i$ = percentage of dry matter in chopping from farm $i \\in I$\n",
        "*   $c_i$ = tons of corn chopping available for each $i \\in I$ (t)\n",
        "*   $x_i, y_i$ = coordinates of farm $i \\in I$"
      ]
    },
    {
      "cell_type": "code",
      "execution_count": null,
      "metadata": {
        "colab": {
          "base_uri": "https://localhost:8080/"
        },
        "id": "z8gsaiSYIFw4",
        "outputId": "0e6afb0e-0881-4898-c8ac-9f9d71f679d7"
      },
      "outputs": [
        {
          "name": "stdout",
          "output_type": "stream",
          "text": [
            "rm: cannot remove 'instance_1.json': No such file or directory\n",
            "rm: cannot remove 'instance_1.txt': No such file or directory\n",
            "--2022-12-11 21:45:40--  https://raw.githubusercontent.com/Daddeee/FOR_Labs_22-23/master/big-project/instances/instance_1.json\n",
            "Resolving raw.githubusercontent.com (raw.githubusercontent.com)... 185.199.108.133, 185.199.109.133, 185.199.110.133, ...\n",
            "Connecting to raw.githubusercontent.com (raw.githubusercontent.com)|185.199.108.133|:443... connected.\n",
            "HTTP request sent, awaiting response... 200 OK\n",
            "Length: 572 [text/plain]\n",
            "Saving to: ‘instance_1.json’\n",
            "\n",
            "instance_1.json     100%[===================>]     572  --.-KB/s    in 0s      \n",
            "\n",
            "2022-12-11 21:45:40 (19.0 MB/s) - ‘instance_1.json’ saved [572/572]\n",
            "\n",
            "--2022-12-11 21:45:40--  https://raw.githubusercontent.com/Daddeee/FOR_Labs_22-23/master/big-project/results/instance_1.txt\n",
            "Resolving raw.githubusercontent.com (raw.githubusercontent.com)... 185.199.110.133, 185.199.108.133, 185.199.111.133, ...\n",
            "Connecting to raw.githubusercontent.com (raw.githubusercontent.com)|185.199.110.133|:443... connected.\n",
            "HTTP request sent, awaiting response... 200 OK\n",
            "Length: 17 [text/plain]\n",
            "Saving to: ‘instance_1.txt’\n",
            "\n",
            "instance_1.txt      100%[===================>]      17  --.-KB/s    in 0s      \n",
            "\n",
            "2022-12-11 21:45:40 (614 KB/s) - ‘instance_1.txt’ saved [17/17]\n",
            "\n"
          ]
        }
      ],
      "source": [
        "# Clean files if present\n",
        "!rm instance_1.json\n",
        "!rm instance_1.txt\n",
        "\n",
        "# Download instance_1 (both instance and solution) directly from Github\n",
        "!wget https://raw.githubusercontent.com/Daddeee/FOR_Labs_22-23/master/big-project/instances/instance_1.json\n",
        "!wget https://raw.githubusercontent.com/Daddeee/FOR_Labs_22-23/master/big-project/results/instance_1.txt"
      ]
    },
    {
      "cell_type": "code",
      "execution_count": null,
      "metadata": {
        "colab": {
          "base_uri": "https://localhost:8080/"
        },
        "id": "_KMiMx9LIpfI",
        "outputId": "3a0e86b3-6476-4e9d-e51b-0983b0445875"
      },
      "outputs": [
        {
          "name": "stdout",
          "output_type": "stream",
          "text": [
            "result: 0\n",
            "expected: 954.5875250717905\n",
            "gap: -100.0\n"
          ]
        }
      ],
      "source": [
        "import json\n",
        "\n",
        "# Reads a .json instance and returns it in a dictionary\n",
        "def load_instance(filename):\n",
        "  with open(filename, 'r') as f:\n",
        "    data = json.load(f)\n",
        "  return data\n",
        "\n",
        "# Reads a .txt result and returns it\n",
        "def load_result(filename):\n",
        "  with open(filename, 'r') as f:\n",
        "      result = f.read()\n",
        "  return float(result)\n",
        "\n",
        "def solve(instance):\n",
        "  # TODO\n",
        "  return 0\n",
        "\n",
        "inst = load_instance(\"instance_1.json\")\n",
        "res = load_result(\"instance_1.txt\")\n",
        "\n",
        "obj = solve(inst)\n",
        "\n",
        "gap = 100 * (obj - res) / res\n",
        "\n",
        "print(\"result: {}\".format(obj))\n",
        "print(\"expected: {}\".format(res))\n",
        "print(\"gap: {}\".format(gap))"
      ]
    }
  ],
  "metadata": {
    "colab": {
      "provenance": []
    },
    "kernelspec": {
      "display_name": "Python 3.10.8 64-bit",
      "language": "python",
      "name": "python3"
    },
    "language_info": {
      "name": "python",
      "version": "3.10.8"
    },
    "vscode": {
      "interpreter": {
        "hash": "e7370f93d1d0cde622a1f8e1c04877d8463912d04d973331ad4851f04de6915a"
      }
    }
  },
  "nbformat": 4,
  "nbformat_minor": 0
}
