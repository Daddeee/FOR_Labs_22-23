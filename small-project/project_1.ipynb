{
  "cells": [
    {
      "cell_type": "markdown",
      "metadata": {
        "id": "4MGTWLXgf2lu"
      },
      "source": [
        "## Biogas plant\n",
        "\n",
        "You want to plan the two-year supply of raw materials for a biogas power plant. Such a plant produces energy by burning biogas, which is obtained from the bacterial fermentation of organic wastes. \n",
        "Specifically, your plant is powered by corn chopping, a residual of agro-industrial operations that you can purchase from 5 local farms. \n",
        "The table below shows the quarterly capacity of each farm for the next two years. Quantities are measured in tons.\n",
        "\n",
        "Farm|T1|T2|T3|T4|T5|T6|T7|T8\n",
        ":-|:-:|:-:|:-:|:-:|:-:|:-:|:-:|:-:\n",
        "1|700|1500|700|0|0|700|1500|0\n",
        "2|1350|0|450|0|1350|0|450|0\n",
        "3|0|1500|1500|0|0|1500|1500|0\n",
        "4|820|1560|820|0|820|1560|820|0\n",
        "5|0|680|1080|0|0|680|1080|0\n",
        "\n",
        "Due to crop rotations and corn harvesting periods, farms are unable to supply material in some quarters. Moreover the types of corn chopping provided are different, each coming with its own unitary purchase price, unitary storage cost and percentage of dry matter. The table below shows a summary of these information.\n",
        "\n",
        "Farm|Purchase price|Storage cost|Dry matter\n",
        ":-|:-:|:-:|:-:\n",
        "1|0.20|0.002|15\n",
        "2|0.18|0.012|28\n",
        "3|0.19|0.007|35\n",
        "4|0.21|0.011|37\n",
        "5|0.23|0.015|42\n",
        "\n",
        "Your biogas plant must operate by burning a mixture of corn choppings with a dry matter percentage between 20% and 40%. Under these conditions, the yield is 421.6 kWh of energy per ton of burned material. The energy produced by the plant is sold on the market at a price of 0.28 $/kWh. \n",
        "\n",
        "Due to state regulations, all biogas plants can produce a maximum of 1950 MWh of energy per quarter. You are allowed to store corn chopping in a silo, whose total capacity is of 500 tons. \n",
        "\n",
        "Plan the supply and inventory of your biogas plant with the goal of maximizing your profits (i.e., revenues minus costs)."
      ]
    },
    {
      "cell_type": "code",
      "execution_count": null,
      "metadata": {
        "colab": {
          "base_uri": "https://localhost:8080/",
          "height": 503
        },
        "id": "AXjbD65XQCeH",
        "outputId": "81a921bd-df34-4b69-bc93-158c64ad45fd"
      },
      "outputs": [],
      "source": [
        "# When using Colab, make sure you run this instruction beforehand\n",
        "!pip install --upgrade cffi==1.15.0\n",
        "import importlib\n",
        "import cffi\n",
        "importlib.reload(cffi)\n",
        "!pip install mip"
      ]
    },
    {
      "cell_type": "code",
      "execution_count": null,
      "metadata": {},
      "outputs": [],
      "source": [
        "# (TODO)"
      ]
    }
  ],
  "metadata": {
    "colab": {
      "provenance": []
    },
    "kernelspec": {
      "display_name": "Python 3",
      "name": "python3"
    },
    "language_info": {
      "name": "python"
    }
  },
  "nbformat": 4,
  "nbformat_minor": 0
}
